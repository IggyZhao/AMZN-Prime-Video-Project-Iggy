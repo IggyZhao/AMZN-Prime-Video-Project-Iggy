{
  "nbformat": 4,
  "nbformat_minor": 0,
  "metadata": {
    "colab": {
      "name": "Amazon Prime Video Project by Iggy.ipynb",
      "provenance": [],
      "collapsed_sections": [],
      "toc_visible": true,
      "include_colab_link": true
    },
    "kernelspec": {
      "name": "python3",
      "display_name": "Python 3"
    }
  },
  "cells": [
    {
      "cell_type": "markdown",
      "metadata": {
        "id": "view-in-github",
        "colab_type": "text"
      },
      "source": [
        "<a href=\"https://colab.research.google.com/github/IggyZhao/AMZN-Prime-Video-Project-Iggy-/blob/master/Amazon_Prime_Video_Project_by_Iggy.ipynb\" target=\"_parent\"><img src=\"https://colab.research.google.com/assets/colab-badge.svg\" alt=\"Open In Colab\"/></a>"
      ]
    },
    {
      "cell_type": "markdown",
      "metadata": {
        "id": "3z7sF7gvxTke",
        "colab_type": "text"
      },
      "source": [
        "# Part 0 Load packages, load data\n"
      ]
    },
    {
      "cell_type": "code",
      "metadata": {
        "id": "AfZpbClJ8ljR",
        "colab_type": "code",
        "colab": {
          "base_uri": "https://localhost:8080/",
          "height": 71
        },
        "outputId": "45ae8400-a70a-495b-fb50-6b872abfb361"
      },
      "source": [
        "#import neccessary libraries\n",
        "import numpy as np\n",
        "import pandas as pd\n",
        "import sklearn as sl\n",
        "import sklearn.preprocessing as preprocessing\n",
        "from sklearn.model_selection import train_test_split\n",
        "import seaborn as sns\n",
        "import matplotlib.pyplot as plt\n",
        "pd.set_option('display.float_format', lambda x: '%.3f' % x)\n",
        "pd.set_option('display.max_columns',None)\n",
        "pd.set_option('display.max_rows',None)\n",
        "pd.set_option('max_colwidth',100)\n"
      ],
      "execution_count": null,
      "outputs": [
        {
          "output_type": "stream",
          "text": [
            "/usr/local/lib/python3.6/dist-packages/statsmodels/tools/_testing.py:19: FutureWarning: pandas.util.testing is deprecated. Use the functions in the public API at pandas.testing instead.\n",
            "  import pandas.util.testing as tm\n"
          ],
          "name": "stderr"
        }
      ]
    },
    {
      "cell_type": "markdown",
      "metadata": {
        "id": "GGdLicFQxSlT",
        "colab_type": "text"
      },
      "source": [
        ""
      ]
    },
    {
      "cell_type": "code",
      "metadata": {
        "id": "dkksVl1cqw3W",
        "colab_type": "code",
        "colab": {
          "resources": {
            "http://localhost:8080/nbextensions/google.colab/files.js": {
              "data": "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",
              "ok": true,
              "headers": [
                [
                  "content-type",
                  "application/javascript"
                ]
              ],
              "status": 200,
              "status_text": ""
            }
          },
          "base_uri": "https://localhost:8080/",
          "height": 71
        },
        "outputId": "97900ce8-8e56-4593-b4fa-5123bf84f2a9"
      },
      "source": [
        "from google.colab import files\n",
        "uploaded = files.upload()"
      ],
      "execution_count": null,
      "outputs": [
        {
          "output_type": "display_data",
          "data": {
            "text/html": [
              "\n",
              "     <input type=\"file\" id=\"files-e8c19a6f-3a09-4dd7-9bb6-b4672f287670\" name=\"files[]\" multiple disabled />\n",
              "     <output id=\"result-e8c19a6f-3a09-4dd7-9bb6-b4672f287670\">\n",
              "      Upload widget is only available when the cell has been executed in the\n",
              "      current browser session. Please rerun this cell to enable.\n",
              "      </output>\n",
              "      <script src=\"/nbextensions/google.colab/files.js\"></script> "
            ],
            "text/plain": [
              "<IPython.core.display.HTML object>"
            ]
          },
          "metadata": {
            "tags": []
          }
        },
        {
          "output_type": "stream",
          "text": [
            "Saving TVdata.txt to TVdata.txt\n"
          ],
          "name": "stdout"
        }
      ]
    },
    {
      "cell_type": "code",
      "metadata": {
        "id": "-wJBauQaI6QZ",
        "colab_type": "code",
        "colab": {
          "base_uri": "https://localhost:8080/",
          "height": 595
        },
        "outputId": "7cf8e8d9-b50b-4e29-da34-5ac01cdfcec9"
      },
      "source": [
        "TV=pd.read_table('TVdata.txt',header=0,sep=',',lineterminator='\\n')\n",
        "print(TV.head())"
      ],
      "execution_count": null,
      "outputs": [
        {
          "output_type": "stream",
          "text": [
            "   video_id  cvt_per_day  weighted_categorical_position  \\\n",
            "0    385504   307127.606                              1   \n",
            "1    300175   270338.426                              1   \n",
            "2    361899   256165.867                              1   \n",
            "3    308314   196622.721                              3   \n",
            "4    307201   159841.652                              1   \n",
            "\n",
            "   weighted_horizontal_poition  import_id  release_year  \\\n",
            "0                            3  lionsgate          2013   \n",
            "1                            3  lionsgate          2013   \n",
            "2                            3      other          2012   \n",
            "3                            4  lionsgate          2008   \n",
            "4                            3  lionsgate          2013   \n",
            "\n",
            "                                          genres  imdb_votes    budget  \\\n",
            "0                          Action,Thriller,Drama       69614  15000000   \n",
            "1                          Comedy,Crime,Thriller       46705  15000000   \n",
            "2                                    Crime,Drama      197596  26000000   \n",
            "3  Thriller,Drama,War,Documentary,Mystery,Action      356339  15000000   \n",
            "4             Crime,Thriller,Mystery,Documentary       46720  27220000   \n",
            "\n",
            "   boxoffice  imdb_rating  duration_in_mins  metacritic_score       awards  \\\n",
            "0   42930462        6.500           112.301                51  other award   \n",
            "1    3301046        6.500            94.983                41     no award   \n",
            "2   37397291        7.300           115.764                58  other award   \n",
            "3   15700000        7.600           130.704                94        Oscar   \n",
            "4    8551228        6.400           105.546                37  other award   \n",
            "\n",
            "    mpaa  star_category  \n",
            "0  PG-13          1.710  \n",
            "1      R          3.250  \n",
            "2      R          2.647  \n",
            "3      R          1.667  \n",
            "4      R          3.067  \n"
          ],
          "name": "stdout"
        }
      ]
    },
    {
      "cell_type": "markdown",
      "metadata": {
        "id": "3ES81w8WA2Wk",
        "colab_type": "text"
      },
      "source": [
        "# Part 1: Data Exploration"
      ]
    },
    {
      "cell_type": "markdown",
      "metadata": {
        "id": "CDv2MT3gBO70",
        "colab_type": "text"
      },
      "source": [
        "## 1.1 Exclude erroneous data"
      ]
    },
    {
      "cell_type": "markdown",
      "metadata": {
        "id": "vDXp_OnZyRn6",
        "colab_type": "text"
      },
      "source": [
        "Each video should only appear once in the list, duplicated video will be removed."
      ]
    },
    {
      "cell_type": "code",
      "metadata": {
        "id": "oyum-AqDATd3",
        "colab_type": "code",
        "colab": {
          "base_uri": "https://localhost:8080/",
          "height": 34
        },
        "outputId": "4fe902d0-5790-4b95-b101-93479bed4e92"
      },
      "source": [
        "if TV['video_id'].duplicated().sum()==0:\n",
        "  print('no duplicated index')"
      ],
      "execution_count": null,
      "outputs": [
        {
          "output_type": "stream",
          "text": [
            "no duplicated index\n"
          ],
          "name": "stdout"
        }
      ]
    },
    {
      "cell_type": "markdown",
      "metadata": {
        "id": "v-N2W8E1ybr2",
        "colab_type": "text"
      },
      "source": [
        "## 1.2 Understand numerical features"
      ]
    },
    {
      "cell_type": "markdown",
      "metadata": {
        "id": "i6DmON1TyoYw",
        "colab_type": "text"
      },
      "source": [
        "### 1.2.1 Overview"
      ]
    },
    {
      "cell_type": "code",
      "metadata": {
        "id": "CJcon31EF26u",
        "colab_type": "code",
        "colab": {
          "base_uri": "https://localhost:8080/",
          "height": 1000
        },
        "outputId": "f7f8b2ea-e875-4bde-d93f-86c2be0bb462"
      },
      "source": [
        "TV.info()\n",
        "print(TV.drop(columns=['video_id','release_year'],axis=1).describe(percentiles=[0.1,0.25,0.5,0.75,0.95]))\n",
        "(TV==0).sum(axis=0)/TV.shape[0]"
      ],
      "execution_count": null,
      "outputs": [
        {
          "output_type": "stream",
          "text": [
            "<class 'pandas.core.frame.DataFrame'>\n",
            "RangeIndex: 4226 entries, 0 to 4225\n",
            "Data columns (total 16 columns):\n",
            " #   Column                         Non-Null Count  Dtype  \n",
            "---  ------                         --------------  -----  \n",
            " 0   video_id                       4226 non-null   int64  \n",
            " 1   cvt_per_day                    4226 non-null   float64\n",
            " 2   weighted_categorical_position  4226 non-null   int64  \n",
            " 3   weighted_horizontal_poition    4226 non-null   int64  \n",
            " 4   import_id                      4226 non-null   object \n",
            " 5   release_year                   4226 non-null   int64  \n",
            " 6   genres                         4226 non-null   object \n",
            " 7   imdb_votes                     4226 non-null   int64  \n",
            " 8   budget                         4226 non-null   int64  \n",
            " 9   boxoffice                      4226 non-null   int64  \n",
            " 10  imdb_rating                    4226 non-null   float64\n",
            " 11  duration_in_mins               4226 non-null   float64\n",
            " 12  metacritic_score               4226 non-null   int64  \n",
            " 13  awards                         4226 non-null   object \n",
            " 14  mpaa                           4226 non-null   object \n",
            " 15  star_category                  4226 non-null   float64\n",
            "dtypes: float64(4), int64(8), object(4)\n",
            "memory usage: 528.4+ KB\n",
            "       cvt_per_day  weighted_categorical_position  \\\n",
            "count     4226.000                       4226.000   \n",
            "mean      4218.630                          7.783   \n",
            "std      13036.080                          6.134   \n",
            "min          2.188                          1.000   \n",
            "10%        141.985                          3.000   \n",
            "25%        351.169                          4.000   \n",
            "50%       1193.500                          6.000   \n",
            "75%       3356.789                          9.000   \n",
            "95%      14692.834                         22.000   \n",
            "max     307127.606                         41.000   \n",
            "\n",
            "       weighted_horizontal_poition  imdb_votes        budget     boxoffice  \\\n",
            "count                     4226.000    4226.000      4226.000      4226.000   \n",
            "mean                        28.104    6462.924   2150743.439   2536338.472   \n",
            "std                         11.864   31596.007   7176604.483   8243516.266   \n",
            "min                          1.000       0.000         0.000         0.000   \n",
            "10%                         13.000       8.000         0.000         0.000   \n",
            "25%                         20.000      81.000         0.000         0.000   \n",
            "50%                         28.000     535.000         0.000         0.000   \n",
            "75%                         36.000    3053.000   1500000.000         0.000   \n",
            "95%                         48.000   26199.500  12000000.000   8551228.000   \n",
            "max                         70.000  948630.000 107000000.000 184208848.000   \n",
            "\n",
            "       imdb_rating  duration_in_mins  metacritic_score  star_category  \n",
            "count     4226.000          4226.000          4226.000       4226.000  \n",
            "mean         5.257            89.556            15.974          0.955  \n",
            "std          2.123            21.086            26.205          0.955  \n",
            "min          0.000             4.037             0.000          0.000  \n",
            "10%          2.300            62.391             0.000          0.000  \n",
            "25%          4.300            82.602             0.000          0.000  \n",
            "50%          5.800            90.730             0.000          1.000  \n",
            "75%          6.800            99.500            41.000          1.667  \n",
            "95%          7.800           119.131            65.000          2.597  \n",
            "max         10.000           246.017           100.000          4.000  \n"
          ],
          "name": "stdout"
        },
        {
          "output_type": "execute_result",
          "data": {
            "text/plain": [
              "video_id                        0.000\n",
              "cvt_per_day                     0.000\n",
              "weighted_categorical_position   0.000\n",
              "weighted_horizontal_poition     0.000\n",
              "import_id                       0.000\n",
              "release_year                    0.000\n",
              "genres                          0.000\n",
              "imdb_votes                      0.081\n",
              "budget                          0.581\n",
              "boxoffice                       0.756\n",
              "imdb_rating                     0.081\n",
              "duration_in_mins                0.000\n",
              "metacritic_score                0.713\n",
              "awards                          0.000\n",
              "mpaa                            0.000\n",
              "star_category                   0.437\n",
              "dtype: float64"
            ]
          },
          "metadata": {
            "tags": []
          },
          "execution_count": 5
        }
      ]
    },
    {
      "cell_type": "markdown",
      "metadata": {
        "id": "spQmT1ZHyjVe",
        "colab_type": "text"
      },
      "source": [
        "### 1.2.2 cvt_per_day feature"
      ]
    },
    {
      "cell_type": "code",
      "metadata": {
        "id": "e-BkewHWZEYa",
        "colab_type": "code",
        "colab": {
          "base_uri": "https://localhost:8080/",
          "height": 296
        },
        "outputId": "e0633661-09f8-49ca-e0fd-f07f90bec27e"
      },
      "source": [
        "plt.hist(TV['cvt_per_day'],bins=range(0,15000,50),color='steelblue',label='cvt_per_day',density=True)\n",
        "plt.title('Historgrams of cvt_per_day before data processing')\n",
        "plt.legend(loc='upper right')\n",
        "plt.xlabel('cvt_per_day')\n",
        "plt.ylabel('density')\n",
        "plt.show()"
      ],
      "execution_count": null,
      "outputs": [
        {
          "output_type": "display_data",
          "data": {
            "image/png": "[encoded data removed]",
            "text/plain": [
              "<Figure size 432x288 with 1 Axes>"
            ]
          },
          "metadata": {
            "tags": [],
            "needs_background": "light"
          }
        }
      ]
    },
    {
      "cell_type": "markdown",
      "metadata": {
        "id": "my0LY0Wf0CGb",
        "colab_type": "text"
      },
      "source": [
        "### 1.2.3 Correlation among numerical features"
      ]
    },
    {
      "cell_type": "code",
      "metadata": {
        "id": "oSBeyIiGfLA8",
        "colab_type": "code",
        "colab": {
          "base_uri": "https://localhost:8080/",
          "height": 428
        },
        "outputId": "078c52f3-167d-4111-8ea3-587960f37bdb"
      },
      "source": [
        "corr = TV[['cvt_per_day','weighted_categorical_position','weighted_horizontal_poition'\n",
        "               ,'release_year', 'imdb_votes', 'budget', 'boxoffice' ,'imdb_rating', \n",
        "               'duration_in_mins', 'metacritic_score', 'star_category']].corr()\n",
        "\n",
        "sns.heatmap(corr, cmap=\"YlGnBu\")"
      ],
      "execution_count": null,
      "outputs": [
        {
          "output_type": "execute_result",
          "data": {
            "text/plain": [
              "<matplotlib.axes._subplots.AxesSubplot at 0x7fa800b9eb00>"
            ]
          },
          "metadata": {
            "tags": []
          },
          "execution_count": 7
        },
        {
          "output_type": "display_data",
          "data": {
            "image/png": "[encoded data removed]",
            "text/plain": [
              "<Figure size 432x288 with 2 Axes>"
            ]
          },
          "metadata": {
            "tags": [],
            "needs_background": "light"
          }
        }
      ]
    },
    {
      "cell_type": "code",
      "metadata": {
        "id": "zKOrme5yfSwc",
        "colab_type": "code",
        "colab": {
          "base_uri": "https://localhost:8080/",
          "height": 410
        },
        "outputId": "6f3a59df-913c-4293-d93e-26de8ed00af7"
      },
      "source": [
        "corr"
      ],
      "execution_count": null,
      "outputs": [
        {
          "output_type": "execute_result",
          "data": {
            "text/html": [
              "<div>\n",
              "<style scoped>\n",
              "    .dataframe tbody tr th:only-of-type {\n",
              "        vertical-align: middle;\n",
              "    }\n",
              "\n",
              "    .dataframe tbody tr th {\n",
              "        vertical-align: top;\n",
              "    }\n",
              "\n",
              "    .dataframe thead th {\n",
              "        text-align: right;\n",
              "    }\n",
              "</style>\n",
              "<table border=\"1\" class=\"dataframe\">\n",
              "  <thead>\n",
              "    <tr style=\"text-align: right;\">\n",
              "      <th></th>\n",
              "      <th>cvt_per_day</th>\n",
              "      <th>weighted_categorical_position</th>\n",
              "      <th>weighted_horizontal_poition</th>\n",
              "      <th>release_year</th>\n",
              "      <th>imdb_votes</th>\n",
              "      <th>budget</th>\n",
              "      <th>boxoffice</th>\n",
              "      <th>imdb_rating</th>\n",
              "      <th>duration_in_mins</th>\n",
              "      <th>metacritic_score</th>\n",
              "      <th>star_category</th>\n",
              "    </tr>\n",
              "  </thead>\n",
              "  <tbody>\n",
              "    <tr>\n",
              "      <th>cvt_per_day</th>\n",
              "      <td>1.000</td>\n",
              "      <td>-0.148</td>\n",
              "      <td>-0.302</td>\n",
              "      <td>0.046</td>\n",
              "      <td>0.298</td>\n",
              "      <td>0.316</td>\n",
              "      <td>0.312</td>\n",
              "      <td>0.059</td>\n",
              "      <td>0.152</td>\n",
              "      <td>0.249</td>\n",
              "      <td>0.247</td>\n",
              "    </tr>\n",
              "    <tr>\n",
              "      <th>weighted_categorical_position</th>\n",
              "      <td>-0.148</td>\n",
              "      <td>1.000</td>\n",
              "      <td>-0.084</td>\n",
              "      <td>-0.069</td>\n",
              "      <td>-0.064</td>\n",
              "      <td>-0.090</td>\n",
              "      <td>-0.074</td>\n",
              "      <td>-0.116</td>\n",
              "      <td>-0.174</td>\n",
              "      <td>-0.044</td>\n",
              "      <td>-0.123</td>\n",
              "    </tr>\n",
              "    <tr>\n",
              "      <th>weighted_horizontal_poition</th>\n",
              "      <td>-0.302</td>\n",
              "      <td>-0.084</td>\n",
              "      <td>1.000</td>\n",
              "      <td>0.027</td>\n",
              "      <td>-0.221</td>\n",
              "      <td>-0.211</td>\n",
              "      <td>-0.245</td>\n",
              "      <td>-0.162</td>\n",
              "      <td>-0.102</td>\n",
              "      <td>-0.255</td>\n",
              "      <td>-0.168</td>\n",
              "    </tr>\n",
              "    <tr>\n",
              "      <th>release_year</th>\n",
              "      <td>0.046</td>\n",
              "      <td>-0.069</td>\n",
              "      <td>0.027</td>\n",
              "      <td>1.000</td>\n",
              "      <td>-0.083</td>\n",
              "      <td>-0.040</td>\n",
              "      <td>-0.128</td>\n",
              "      <td>-0.199</td>\n",
              "      <td>-0.097</td>\n",
              "      <td>-0.167</td>\n",
              "      <td>-0.198</td>\n",
              "    </tr>\n",
              "    <tr>\n",
              "      <th>imdb_votes</th>\n",
              "      <td>0.298</td>\n",
              "      <td>-0.064</td>\n",
              "      <td>-0.221</td>\n",
              "      <td>-0.083</td>\n",
              "      <td>1.000</td>\n",
              "      <td>0.273</td>\n",
              "      <td>0.531</td>\n",
              "      <td>0.163</td>\n",
              "      <td>0.156</td>\n",
              "      <td>0.322</td>\n",
              "      <td>0.225</td>\n",
              "    </tr>\n",
              "    <tr>\n",
              "      <th>budget</th>\n",
              "      <td>0.316</td>\n",
              "      <td>-0.090</td>\n",
              "      <td>-0.211</td>\n",
              "      <td>-0.040</td>\n",
              "      <td>0.273</td>\n",
              "      <td>1.000</td>\n",
              "      <td>0.505</td>\n",
              "      <td>0.106</td>\n",
              "      <td>0.251</td>\n",
              "      <td>0.315</td>\n",
              "      <td>0.322</td>\n",
              "    </tr>\n",
              "    <tr>\n",
              "      <th>boxoffice</th>\n",
              "      <td>0.312</td>\n",
              "      <td>-0.074</td>\n",
              "      <td>-0.245</td>\n",
              "      <td>-0.128</td>\n",
              "      <td>0.531</td>\n",
              "      <td>0.505</td>\n",
              "      <td>1.000</td>\n",
              "      <td>0.164</td>\n",
              "      <td>0.226</td>\n",
              "      <td>0.465</td>\n",
              "      <td>0.322</td>\n",
              "    </tr>\n",
              "    <tr>\n",
              "      <th>imdb_rating</th>\n",
              "      <td>0.059</td>\n",
              "      <td>-0.116</td>\n",
              "      <td>-0.162</td>\n",
              "      <td>-0.199</td>\n",
              "      <td>0.163</td>\n",
              "      <td>0.106</td>\n",
              "      <td>0.164</td>\n",
              "      <td>1.000</td>\n",
              "      <td>0.344</td>\n",
              "      <td>0.347</td>\n",
              "      <td>0.192</td>\n",
              "    </tr>\n",
              "    <tr>\n",
              "      <th>duration_in_mins</th>\n",
              "      <td>0.152</td>\n",
              "      <td>-0.174</td>\n",
              "      <td>-0.102</td>\n",
              "      <td>-0.097</td>\n",
              "      <td>0.156</td>\n",
              "      <td>0.251</td>\n",
              "      <td>0.226</td>\n",
              "      <td>0.344</td>\n",
              "      <td>1.000</td>\n",
              "      <td>0.327</td>\n",
              "      <td>0.309</td>\n",
              "    </tr>\n",
              "    <tr>\n",
              "      <th>metacritic_score</th>\n",
              "      <td>0.249</td>\n",
              "      <td>-0.044</td>\n",
              "      <td>-0.255</td>\n",
              "      <td>-0.167</td>\n",
              "      <td>0.322</td>\n",
              "      <td>0.315</td>\n",
              "      <td>0.465</td>\n",
              "      <td>0.347</td>\n",
              "      <td>0.327</td>\n",
              "      <td>1.000</td>\n",
              "      <td>0.452</td>\n",
              "    </tr>\n",
              "    <tr>\n",
              "      <th>star_category</th>\n",
              "      <td>0.247</td>\n",
              "      <td>-0.123</td>\n",
              "      <td>-0.168</td>\n",
              "      <td>-0.198</td>\n",
              "      <td>0.225</td>\n",
              "      <td>0.322</td>\n",
              "      <td>0.322</td>\n",
              "      <td>0.192</td>\n",
              "      <td>0.309</td>\n",
              "      <td>0.452</td>\n",
              "      <td>1.000</td>\n",
              "    </tr>\n",
              "  </tbody>\n",
              "</table>\n",
              "</div>"
            ],
            "text/plain": [
              "                               cvt_per_day  weighted_categorical_position  \\\n",
              "cvt_per_day                          1.000                         -0.148   \n",
              "weighted_categorical_position       -0.148                          1.000   \n",
              "weighted_horizontal_poition         -0.302                         -0.084   \n",
              "release_year                         0.046                         -0.069   \n",
              "imdb_votes                           0.298                         -0.064   \n",
              "budget                               0.316                         -0.090   \n",
              "boxoffice                            0.312                         -0.074   \n",
              "imdb_rating                          0.059                         -0.116   \n",
              "duration_in_mins                     0.152                         -0.174   \n",
              "metacritic_score                     0.249                         -0.044   \n",
              "star_category                        0.247                         -0.123   \n",
              "\n",
              "                               weighted_horizontal_poition  release_year  \\\n",
              "cvt_per_day                                         -0.302         0.046   \n",
              "weighted_categorical_position                       -0.084        -0.069   \n",
              "weighted_horizontal_poition                          1.000         0.027   \n",
              "release_year                                         0.027         1.000   \n",
              "imdb_votes                                          -0.221        -0.083   \n",
              "budget                                              -0.211        -0.040   \n",
              "boxoffice                                           -0.245        -0.128   \n",
              "imdb_rating                                         -0.162        -0.199   \n",
              "duration_in_mins                                    -0.102        -0.097   \n",
              "metacritic_score                                    -0.255        -0.167   \n",
              "star_category                                       -0.168        -0.198   \n",
              "\n",
              "                               imdb_votes  budget  boxoffice  imdb_rating  \\\n",
              "cvt_per_day                         0.298   0.316      0.312        0.059   \n",
              "weighted_categorical_position      -0.064  -0.090     -0.074       -0.116   \n",
              "weighted_horizontal_poition        -0.221  -0.211     -0.245       -0.162   \n",
              "release_year                       -0.083  -0.040     -0.128       -0.199   \n",
              "imdb_votes                          1.000   0.273      0.531        0.163   \n",
              "budget                              0.273   1.000      0.505        0.106   \n",
              "boxoffice                           0.531   0.505      1.000        0.164   \n",
              "imdb_rating                         0.163   0.106      0.164        1.000   \n",
              "duration_in_mins                    0.156   0.251      0.226        0.344   \n",
              "metacritic_score                    0.322   0.315      0.465        0.347   \n",
              "star_category                       0.225   0.322      0.322        0.192   \n",
              "\n",
              "                               duration_in_mins  metacritic_score  \\\n",
              "cvt_per_day                               0.152             0.249   \n",
              "weighted_categorical_position            -0.174            -0.044   \n",
              "weighted_horizontal_poition              -0.102            -0.255   \n",
              "release_year                             -0.097            -0.167   \n",
              "imdb_votes                                0.156             0.322   \n",
              "budget                                    0.251             0.315   \n",
              "boxoffice                                 0.226             0.465   \n",
              "imdb_rating                               0.344             0.347   \n",
              "duration_in_mins                          1.000             0.327   \n",
              "metacritic_score                          0.327             1.000   \n",
              "star_category                             0.309             0.452   \n",
              "\n",
              "                               star_category  \n",
              "cvt_per_day                            0.247  \n",
              "weighted_categorical_position         -0.123  \n",
              "weighted_horizontal_poition           -0.168  \n",
              "release_year                          -0.198  \n",
              "imdb_votes                             0.225  \n",
              "budget                                 0.322  \n",
              "boxoffice                              0.322  \n",
              "imdb_rating                            0.192  \n",
              "duration_in_mins                       0.309  \n",
              "metacritic_score                       0.452  \n",
              "star_category                          1.000  "
            ]
          },
          "metadata": {
            "tags": []
          },
          "execution_count": 8
        }
      ]
    },
    {
      "cell_type": "markdown",
      "metadata": {
        "id": "fVUMUbzs0UrM",
        "colab_type": "text"
      },
      "source": [
        "## 1.3 Understand categorical features"
      ]
    },
    {
      "cell_type": "markdown",
      "metadata": {
        "id": "kFWDC_kmieQX",
        "colab_type": "text"
      },
      "source": [
        "### 1.3.1 Distribution of standard categorical features"
      ]
    },
    {
      "cell_type": "code",
      "metadata": {
        "id": "U5Q7QppFfW4P",
        "colab_type": "code",
        "colab": {
          "base_uri": "https://localhost:8080/",
          "height": 1000
        },
        "outputId": "c08c69cb-b948-4663-a686-9675e39c858e"
      },
      "source": [
        "sns.stripplot(x='import_id', y='cvt_per_day', data=TV,jitter=True)\n",
        "plt.show()\n",
        "print(TV['import_id'].value_counts())\n",
        "\n",
        "sns.stripplot(x='mpaa', y='cvt_per_day', data=TV,jitter=True)\n",
        "plt.show()\n",
        "print(TV['mpaa'].value_counts())\n",
        "\n",
        "sns.stripplot(x='awards', y='cvt_per_day', data=TV, jitter=True)\n",
        "plt.show()\n",
        "print(TV['awards'].value_counts())"
      ],
      "execution_count": null,
      "outputs": [
        {
          "output_type": "display_data",
          "data": {
            "image/png": "[encoded data removed]",
            "text/plain": [
              "<Figure size 432x288 with 1 Axes>"
            ]
          },
          "metadata": {
            "tags": [],
            "needs_background": "light"
          }
        },
        {
          "output_type": "stream",
          "text": [
            "other        2963\n",
            "lionsgate     677\n",
            "mgm           445\n",
            "paramount     141\n",
            "Name: import_id, dtype: int64\n"
          ],
          "name": "stdout"
        },
        {
          "output_type": "display_data",
          "data": {
            "image/png": "[encoded data removed]",
            "text/plain": [
              "<Figure size 432x288 with 1 Axes>"
            ]
          },
          "metadata": {
            "tags": [],
            "needs_background": "light"
          }
        },
        {
          "output_type": "stream",
          "text": [
            "NotRated    2158\n",
            "R           1158\n",
            "PG-13        426\n",
            "PG           353\n",
            "G            125\n",
            "NC-17          6\n",
            "Name: mpaa, dtype: int64\n"
          ],
          "name": "stdout"
        },
        {
          "output_type": "display_data",
          "data": {
            "image/png": "[encoded data removed]",
            "text/plain": [
              "<Figure size 432x288 with 1 Axes>"
            ]
          },
          "metadata": {
            "tags": [],
            "needs_background": "light"
          }
        },
        {
          "output_type": "stream",
          "text": [
            "no award        2569\n",
            "other award     1453\n",
            "Oscar            141\n",
            "Golden Globe      44\n",
            "BAFTA             19\n",
            "Name: awards, dtype: int64\n"
          ],
          "name": "stdout"
        }
      ]
    },
    {
      "cell_type": "markdown",
      "metadata": {
        "id": "fd1SnNRGDshS",
        "colab_type": "text"
      },
      "source": [
        "After very basic Exploratory Data Analysis, we have to do some data cleaning and data preprocessing.\n",
        "We need three steps to finish  this.\n",
        "First, we need to encode the categorical feature.\n",
        "Second, we need to impute the missing value for both numeric and categorical feature.\n",
        "Third, we need to scale out feature, which can be better for our models' performance.\n",
        "\n"
      ]
    },
    {
      "cell_type": "markdown",
      "metadata": {
        "id": "4HU4Kd_l0lmt",
        "colab_type": "text"
      },
      "source": [
        "### 1.3.2 Distribution of splited genres"
      ]
    },
    {
      "cell_type": "markdown",
      "metadata": {
        "id": "6p0LW_6K0xpj",
        "colab_type": "text"
      },
      "source": [
        "Some videos belongs to more than 1 genre, the genre of each video is splited, this would help emphasize the effect of each individual genre."
      ]
    },
    {
      "cell_type": "code",
      "metadata": {
        "id": "I0RXWm-bhlpq",
        "colab_type": "code",
        "colab": {
          "base_uri": "https://localhost:8080/",
          "height": 853
        },
        "outputId": "d7809e3f-4b5b-4f8e-d511-58995a3d4418"
      },
      "source": [
        "# generes explore, split the genre of each video\n",
        "gen_split = TV['genres'].str.get_dummies(sep=',').sum()\n",
        "print(gen_split)\n",
        "\n",
        "gen_split.sort_values(ascending=False).plot.bar(color='steelblue')"
      ],
      "execution_count": null,
      "outputs": [
        {
          "output_type": "stream",
          "text": [
            "Action                    739\n",
            "Adult                       3\n",
            "Adventure                 363\n",
            "Animation                 129\n",
            "Anime                      11\n",
            "Comedy                   1184\n",
            "Crime                     437\n",
            "Documentary               671\n",
            "Drama                    1677\n",
            "Fantasy                   243\n",
            "Foreign/International      64\n",
            "Holiday                     1\n",
            "Horror                    762\n",
            "Independent               393\n",
            "Kids & Family             280\n",
            "LGBT                        2\n",
            "Lifestyle                   7\n",
            "Music                     171\n",
            "Musicals                   68\n",
            "Mystery                   375\n",
            "Reality                     9\n",
            "Romance                   591\n",
            "Sci-Fi                    363\n",
            "Sport                      77\n",
            "Thriller                  879\n",
            "War                       102\n",
            "Western                   102\n",
            "dtype: int64\n"
          ],
          "name": "stdout"
        },
        {
          "output_type": "execute_result",
          "data": {
            "text/plain": [
              "<matplotlib.axes._subplots.AxesSubplot at 0x7fa7fdcb8908>"
            ]
          },
          "metadata": {
            "tags": []
          },
          "execution_count": 10
        },
        {
          "output_type": "display_data",
          "data": {
            "image/png": "[encoded data removed]",
            "text/plain": [
              "<Figure size 432x288 with 1 Axes>"
            ]
          },
          "metadata": {
            "tags": [],
            "needs_background": "light"
          }
        }
      ]
    },
    {
      "cell_type": "markdown",
      "metadata": {
        "id": "f4DpGwy900nG",
        "colab_type": "text"
      },
      "source": [
        "### 1.3.3 Distribution of release_year"
      ]
    },
    {
      "cell_type": "markdown",
      "metadata": {
        "id": "WtiAH_7m00tJ",
        "colab_type": "text"
      },
      "source": [
        "The release year of video varies through a wide range. Considering the popularity of a video usually decays over time, the release_year should be bucketed based on the release_year range."
      ]
    },
    {
      "cell_type": "code",
      "metadata": {
        "id": "2zC-7REjisJ1",
        "colab_type": "code",
        "colab": {
          "base_uri": "https://localhost:8080/",
          "height": 296
        },
        "outputId": "d3b2d89e-9815-4f11-d1e4-36f725592e60"
      },
      "source": [
        "plt.hist(TV['release_year'].values, bins = range(1918, 2017, 3), color='steelblue', label = 'release_year')\n",
        "plt.legend(loc ='upper left')\n",
        "plt.title('Historgrams of release_year before data processing')\n",
        "plt.xlabel('release_year')\n",
        "plt.ylabel('Count')\n",
        "plt.show()\n"
      ],
      "execution_count": null,
      "outputs": [
        {
          "output_type": "display_data",
          "data": {
            "image/png": "[encoded data removed]",
            "text/plain": [
              "<Figure size 432x288 with 1 Axes>"
            ]
          },
          "metadata": {
            "tags": [],
            "needs_background": "light"
          }
        }
      ]
    },
    {
      "cell_type": "markdown",
      "metadata": {
        "id": "-kAuJlbm1ydZ",
        "colab_type": "text"
      },
      "source": [
        "# Part 2: Feature Preprocessing"
      ]
    },
    {
      "cell_type": "markdown",
      "metadata": {
        "id": "wHqQu2rK12AH",
        "colab_type": "text"
      },
      "source": [
        "## 2.1 Categorical features"
      ]
    },
    {
      "cell_type": "markdown",
      "metadata": {
        "id": "VJZSa3w515W6",
        "colab_type": "text"
      },
      "source": [
        "There are 5 categorical features: import_id, mpaa, awards, genres, and release_year. There is no missing data in them. They can be converted into dummy/indicators.\n",
        "\n",
        "The first 3 have relatively small sub-types, they can be easily converted to dummies.\n",
        "\n",
        "The 'genres' have 27 different sub-types, 6 of them are rarely observed (refer to previous section). It's reasonable to group these 6 into \n",
        "1. Note: a video may have more than one genre, in the feature preprocessing, all genres are handled individually.\n",
        "2. The release_year is binned into 10 buckets based on the year range between 1917 and 2017."
      ]
    },
    {
      "cell_type": "code",
      "metadata": {
        "id": "NhEq5dXLkkIo",
        "colab_type": "code",
        "colab": {}
      },
      "source": [
        "# Convert 3 Categorical variables into dummy variables\n",
        "d_import_id = pd.get_dummies(TV['import_id']).astype(np.int64)\n",
        "d_mpaa = pd.get_dummies(TV['mpaa']).astype(np.int64)\n",
        "d_awards = pd.get_dummies(TV['awards']).astype(np.int64)"
      ],
      "execution_count": null,
      "outputs": []
    },
    {
      "cell_type": "code",
      "metadata": {
        "id": "-gF0IhvL2Edh",
        "colab_type": "code",
        "colab": {}
      },
      "source": [
        "# Convert 'genres' into dummy variables\n",
        "d_genres=TV['genres'].str.get_dummies(sep=',').astype(np.int64)\n",
        "d_genres['Misc_genres']=d_genres['Anime']|d_genres['Reality']|d_genres['Lifestyle']|d_genres['Adult']|d_genres['LGBT']|d_genres['Holiday']\n",
        "d_genres.drop(['Anime', 'Reality','Lifestyle', 'Adult','LGBT','Holiday'], inplace=True, axis=1)"
      ],
      "execution_count": null,
      "outputs": []
    },
    {
      "cell_type": "markdown",
      "metadata": {
        "id": "wRvlpjv5T8wO",
        "colab_type": "text"
      },
      "source": [
        ""
      ]
    },
    {
      "cell_type": "code",
      "metadata": {
        "id": "rrYuplqCU4uH",
        "colab_type": "code",
        "colab": {
          "base_uri": "https://localhost:8080/",
          "height": 187
        },
        "outputId": "2d06ef2a-8b6f-4968-d1fb-6437700588bb"
      },
      "source": [
        "TV['release_year'].quantile([0.1,0.2,0.3,0.4,0.5,0.6,0.7,0.8,0.9])"
      ],
      "execution_count": null,
      "outputs": [
        {
          "output_type": "execute_result",
          "data": {
            "text/plain": [
              "0.100   1974.000\n",
              "0.200   1991.000\n",
              "0.300   2001.000\n",
              "0.400   2006.000\n",
              "0.500   2008.000\n",
              "0.600   2010.000\n",
              "0.700   2012.000\n",
              "0.800   2013.000\n",
              "0.900   2014.000\n",
              "Name: release_year, dtype: float64"
            ]
          },
          "metadata": {
            "tags": []
          },
          "execution_count": 14
        }
      ]
    },
    {
      "cell_type": "markdown",
      "metadata": {
        "id": "XvtxzoL8VWq7",
        "colab_type": "text"
      },
      "source": [
        ""
      ]
    },
    {
      "cell_type": "code",
      "metadata": {
        "id": "2stB_bL3n1Uv",
        "colab_type": "code",
        "colab": {}
      },
      "source": [
        "# bin release_year and convert into dummies\n",
        "bin_year = [1916, 1974, 1991, 2001, 2006, 2008, 2010, 2012, 2013, 2014, 2017]\n",
        "year_range = ['1916-1974', '1974-1991', '1991-2001', '2001-2006','2006-2008','2008-2010','2010-2012','2012-2013',\n",
        "              '2013-2014','2014-2017']\n",
        "year_bin = pd.cut(TV['release_year'], bin_year, labels=year_range)\n",
        "d_year = pd.get_dummies(year_bin).astype(np.int64)"
      ],
      "execution_count": null,
      "outputs": []
    },
    {
      "cell_type": "code",
      "metadata": {
        "id": "MjdlBN_roOZO",
        "colab_type": "code",
        "colab": {
          "base_uri": "https://localhost:8080/",
          "height": 1000
        },
        "outputId": "812107f5-c7ef-403f-8e55-863d81984604"
      },
      "source": [
        "# new dataframe, drop the previous categorical features, add new dummy variables, check for null\n",
        "\n",
        "temp_tv=TV.drop(['import_id', 'mpaa','awards','genres', 'release_year'], axis=1)\n",
        "\n",
        "newTV = pd.concat([temp_tv, d_import_id, d_mpaa, d_awards, d_genres, d_year], axis=1)\n",
        "print(newTV.head())"
      ],
      "execution_count": null,
      "outputs": [
        {
          "output_type": "stream",
          "text": [
            "   video_id  cvt_per_day  weighted_categorical_position  \\\n",
            "0    385504   307127.606                              1   \n",
            "1    300175   270338.426                              1   \n",
            "2    361899   256165.867                              1   \n",
            "3    308314   196622.721                              3   \n",
            "4    307201   159841.652                              1   \n",
            "\n",
            "   weighted_horizontal_poition  imdb_votes    budget  boxoffice  imdb_rating  \\\n",
            "0                            3       69614  15000000   42930462        6.500   \n",
            "1                            3       46705  15000000    3301046        6.500   \n",
            "2                            3      197596  26000000   37397291        7.300   \n",
            "3                            4      356339  15000000   15700000        7.600   \n",
            "4                            3       46720  27220000    8551228        6.400   \n",
            "\n",
            "   duration_in_mins  metacritic_score  star_category  lionsgate  mgm  other  \\\n",
            "0           112.301                51          1.710          1    0      0   \n",
            "1            94.983                41          3.250          1    0      0   \n",
            "2           115.764                58          2.647          0    0      1   \n",
            "3           130.704                94          1.667          1    0      0   \n",
            "4           105.546                37          3.067          1    0      0   \n",
            "\n",
            "   paramount  G  NC-17  NotRated  PG  PG-13  R  BAFTA  Golden Globe  Oscar  \\\n",
            "0          0  0      0         0   0      1  0      0             0      0   \n",
            "1          0  0      0         0   0      0  1      0             0      0   \n",
            "2          0  0      0         0   0      0  1      0             0      0   \n",
            "3          0  0      0         0   0      0  1      0             0      1   \n",
            "4          0  0      0         0   0      0  1      0             0      0   \n",
            "\n",
            "   no award  other award  Action  Adventure  Animation  Comedy  Crime  \\\n",
            "0         0            1       1          0          0       0      0   \n",
            "1         1            0       0          0          0       1      1   \n",
            "2         0            1       0          0          0       0      1   \n",
            "3         0            0       1          0          0       0      0   \n",
            "4         0            1       0          0          0       0      1   \n",
            "\n",
            "   Documentary  Drama  Fantasy  Foreign/International  Horror  Independent  \\\n",
            "0            0      1        0                      0       0            0   \n",
            "1            0      0        0                      0       0            0   \n",
            "2            0      1        0                      0       0            0   \n",
            "3            1      1        0                      0       0            0   \n",
            "4            1      0        0                      0       0            0   \n",
            "\n",
            "   Kids & Family  Music  Musicals  Mystery  Romance  Sci-Fi  Sport  Thriller  \\\n",
            "0              0      0         0        0        0       0      0         1   \n",
            "1              0      0         0        0        0       0      0         1   \n",
            "2              0      0         0        0        0       0      0         0   \n",
            "3              0      0         0        1        0       0      0         1   \n",
            "4              0      0         0        1        0       0      0         1   \n",
            "\n",
            "   War  Western  Misc_genres  1916-1974  1974-1991  1991-2001  2001-2006  \\\n",
            "0    0        0            0          0          0          0          0   \n",
            "1    0        0            0          0          0          0          0   \n",
            "2    0        0            0          0          0          0          0   \n",
            "3    1        0            0          0          0          0          0   \n",
            "4    0        0            0          0          0          0          0   \n",
            "\n",
            "   2006-2008  2008-2010  2010-2012  2012-2013  2013-2014  2014-2017  \n",
            "0          0          0          0          1          0          0  \n",
            "1          0          0          0          1          0          0  \n",
            "2          0          0          1          0          0          0  \n",
            "3          1          0          0          0          0          0  \n",
            "4          0          0          0          1          0          0  \n"
          ],
          "name": "stdout"
        }
      ]
    },
    {
      "cell_type": "markdown",
      "metadata": {
        "id": "N76z14XL2f2n",
        "colab_type": "text"
      },
      "source": [
        "## 2.2 Missing data"
      ]
    },
    {
      "cell_type": "markdown",
      "metadata": {
        "id": "Z5nrzz8i2kgs",
        "colab_type": "text"
      },
      "source": [
        "Among the 10 numerical features (not include video_id), 4 features have over 25% of missing values (shown as '0', which is not possible in reality): budget, boxoffice, metacritic_score, star_category. 2 features have less than 10% of missing data: imdb_votes, imdb_rating.\n",
        "\n",
        "There are 3242 samples have at least one missing data."
      ]
    },
    {
      "cell_type": "markdown",
      "metadata": {
        "id": "yEsN836gC4Zw",
        "colab_type": "text"
      },
      "source": [
        "Right Now we have to deal with the missing data. According to the data info, there is no Null value in our dataset.\n",
        "That's good, but we have to be catious, cause zero value can be a very good candidate for missing data. \n",
        "So we have the check the ratio of zero value in our numeric feature"
      ]
    },
    {
      "cell_type": "code",
      "metadata": {
        "id": "WxdTKOiMDdD5",
        "colab_type": "code",
        "colab": {
          "base_uri": "https://localhost:8080/",
          "height": 1000
        },
        "outputId": "61c3b30a-d446-4801-8c1b-ae4a05a5764d"
      },
      "source": [
        "newTV[['budget','boxoffice','metacritic_score', 'star_category','imdb_votes', 'imdb_rating']] = newTV[['budget','boxoffice','metacritic_score', 'star_category','imdb_votes', 'imdb_rating']].replace(0, np.nan)\n",
        "print(newTV.info())"
      ],
      "execution_count": null,
      "outputs": [
        {
          "output_type": "stream",
          "text": [
            "<class 'pandas.core.frame.DataFrame'>\n",
            "RangeIndex: 4226 entries, 0 to 4225\n",
            "Data columns (total 58 columns):\n",
            " #   Column                         Non-Null Count  Dtype  \n",
            "---  ------                         --------------  -----  \n",
            " 0   video_id                       4226 non-null   int64  \n",
            " 1   cvt_per_day                    4226 non-null   float64\n",
            " 2   weighted_categorical_position  4226 non-null   int64  \n",
            " 3   weighted_horizontal_poition    4226 non-null   int64  \n",
            " 4   imdb_votes                     3882 non-null   float64\n",
            " 5   budget                         1772 non-null   float64\n",
            " 6   boxoffice                      1032 non-null   float64\n",
            " 7   imdb_rating                    3882 non-null   float64\n",
            " 8   duration_in_mins               4226 non-null   float64\n",
            " 9   metacritic_score               1214 non-null   float64\n",
            " 10  star_category                  2380 non-null   float64\n",
            " 11  lionsgate                      4226 non-null   int64  \n",
            " 12  mgm                            4226 non-null   int64  \n",
            " 13  other                          4226 non-null   int64  \n",
            " 14  paramount                      4226 non-null   int64  \n",
            " 15  G                              4226 non-null   int64  \n",
            " 16  NC-17                          4226 non-null   int64  \n",
            " 17  NotRated                       4226 non-null   int64  \n",
            " 18  PG                             4226 non-null   int64  \n",
            " 19  PG-13                          4226 non-null   int64  \n",
            " 20  R                              4226 non-null   int64  \n",
            " 21  BAFTA                          4226 non-null   int64  \n",
            " 22  Golden Globe                   4226 non-null   int64  \n",
            " 23  Oscar                          4226 non-null   int64  \n",
            " 24  no award                       4226 non-null   int64  \n",
            " 25  other award                    4226 non-null   int64  \n",
            " 26  Action                         4226 non-null   int64  \n",
            " 27  Adventure                      4226 non-null   int64  \n",
            " 28  Animation                      4226 non-null   int64  \n",
            " 29  Comedy                         4226 non-null   int64  \n",
            " 30  Crime                          4226 non-null   int64  \n",
            " 31  Documentary                    4226 non-null   int64  \n",
            " 32  Drama                          4226 non-null   int64  \n",
            " 33  Fantasy                        4226 non-null   int64  \n",
            " 34  Foreign/International          4226 non-null   int64  \n",
            " 35  Horror                         4226 non-null   int64  \n",
            " 36  Independent                    4226 non-null   int64  \n",
            " 37  Kids & Family                  4226 non-null   int64  \n",
            " 38  Music                          4226 non-null   int64  \n",
            " 39  Musicals                       4226 non-null   int64  \n",
            " 40  Mystery                        4226 non-null   int64  \n",
            " 41  Romance                        4226 non-null   int64  \n",
            " 42  Sci-Fi                         4226 non-null   int64  \n",
            " 43  Sport                          4226 non-null   int64  \n",
            " 44  Thriller                       4226 non-null   int64  \n",
            " 45  War                            4226 non-null   int64  \n",
            " 46  Western                        4226 non-null   int64  \n",
            " 47  Misc_genres                    4226 non-null   int64  \n",
            " 48  1916-1974                      4226 non-null   int64  \n",
            " 49  1974-1991                      4226 non-null   int64  \n",
            " 50  1991-2001                      4226 non-null   int64  \n",
            " 51  2001-2006                      4226 non-null   int64  \n",
            " 52  2006-2008                      4226 non-null   int64  \n",
            " 53  2008-2010                      4226 non-null   int64  \n",
            " 54  2010-2012                      4226 non-null   int64  \n",
            " 55  2012-2013                      4226 non-null   int64  \n",
            " 56  2013-2014                      4226 non-null   int64  \n",
            " 57  2014-2017                      4226 non-null   int64  \n",
            "dtypes: float64(8), int64(50)\n",
            "memory usage: 1.9 MB\n",
            "None\n"
          ],
          "name": "stdout"
        }
      ]
    },
    {
      "cell_type": "code",
      "metadata": {
        "id": "lpnxAbDiiRcx",
        "colab_type": "code",
        "colab": {
          "base_uri": "https://localhost:8080/",
          "height": 1000
        },
        "outputId": "1e5681f1-b32e-48e9-8471-b193a80a80ba"
      },
      "source": [
        "print(newTV.isnull().sum()/newTV.shape[0])"
      ],
      "execution_count": null,
      "outputs": [
        {
          "output_type": "stream",
          "text": [
            "video_id                        0.000\n",
            "cvt_per_day                     0.000\n",
            "weighted_categorical_position   0.000\n",
            "weighted_horizontal_poition     0.000\n",
            "imdb_votes                      0.081\n",
            "budget                          0.581\n",
            "boxoffice                       0.756\n",
            "imdb_rating                     0.081\n",
            "duration_in_mins                0.000\n",
            "metacritic_score                0.713\n",
            "star_category                   0.437\n",
            "lionsgate                       0.000\n",
            "mgm                             0.000\n",
            "other                           0.000\n",
            "paramount                       0.000\n",
            "G                               0.000\n",
            "NC-17                           0.000\n",
            "NotRated                        0.000\n",
            "PG                              0.000\n",
            "PG-13                           0.000\n",
            "R                               0.000\n",
            "BAFTA                           0.000\n",
            "Golden Globe                    0.000\n",
            "Oscar                           0.000\n",
            "no award                        0.000\n",
            "other award                     0.000\n",
            "Action                          0.000\n",
            "Adventure                       0.000\n",
            "Animation                       0.000\n",
            "Comedy                          0.000\n",
            "Crime                           0.000\n",
            "Documentary                     0.000\n",
            "Drama                           0.000\n",
            "Fantasy                         0.000\n",
            "Foreign/International           0.000\n",
            "Horror                          0.000\n",
            "Independent                     0.000\n",
            "Kids & Family                   0.000\n",
            "Music                           0.000\n",
            "Musicals                        0.000\n",
            "Mystery                         0.000\n",
            "Romance                         0.000\n",
            "Sci-Fi                          0.000\n",
            "Sport                           0.000\n",
            "Thriller                        0.000\n",
            "War                             0.000\n",
            "Western                         0.000\n",
            "Misc_genres                     0.000\n",
            "1916-1974                       0.000\n",
            "1974-1991                       0.000\n",
            "1991-2001                       0.000\n",
            "2001-2006                       0.000\n",
            "2006-2008                       0.000\n",
            "2008-2010                       0.000\n",
            "2010-2012                       0.000\n",
            "2012-2013                       0.000\n",
            "2013-2014                       0.000\n",
            "2014-2017                       0.000\n",
            "dtype: float64\n"
          ],
          "name": "stdout"
        }
      ]
    },
    {
      "cell_type": "markdown",
      "metadata": {
        "id": "Q9BKknWx3k9l",
        "colab_type": "text"
      },
      "source": [
        "Filling missing data with mean value"
      ]
    },
    {
      "cell_type": "code",
      "metadata": {
        "id": "Jf8oxZlD3ap5",
        "colab_type": "code",
        "colab": {
          "base_uri": "https://localhost:8080/",
          "height": 1000
        },
        "outputId": "5628a270-f86d-426d-97c0-4e86a3b9b55b"
      },
      "source": [
        "newTV1=newTV.copy()\n",
        "newTV1['boxoffice']=newTV1['boxoffice'].fillna(newTV1['boxoffice'].mean())\n",
        "newTV1['metacritic_score']=newTV1['metacritic_score'].fillna(newTV1['metacritic_score'].mean())\n",
        "newTV1['star_category']=newTV1['star_category'].fillna(newTV1['star_category'].mean())\n",
        "newTV1['imdb_votes']=newTV1['imdb_votes'].fillna(newTV1['imdb_votes'].mean())\n",
        "newTV1['imdb_rating']=newTV1['imdb_rating'].fillna(newTV1['imdb_rating'].mean())\n",
        "newTV1['budget']=newTV1['budget'].fillna(newTV1['budget'].mean())\n",
        "print(newTV1.info())"
      ],
      "execution_count": null,
      "outputs": [
        {
          "output_type": "stream",
          "text": [
            "<class 'pandas.core.frame.DataFrame'>\n",
            "RangeIndex: 4226 entries, 0 to 4225\n",
            "Data columns (total 58 columns):\n",
            " #   Column                         Non-Null Count  Dtype  \n",
            "---  ------                         --------------  -----  \n",
            " 0   video_id                       4226 non-null   int64  \n",
            " 1   cvt_per_day                    4226 non-null   float64\n",
            " 2   weighted_categorical_position  4226 non-null   int64  \n",
            " 3   weighted_horizontal_poition    4226 non-null   int64  \n",
            " 4   imdb_votes                     4226 non-null   float64\n",
            " 5   budget                         4226 non-null   float64\n",
            " 6   boxoffice                      4226 non-null   float64\n",
            " 7   imdb_rating                    4226 non-null   float64\n",
            " 8   duration_in_mins               4226 non-null   float64\n",
            " 9   metacritic_score               4226 non-null   float64\n",
            " 10  star_category                  4226 non-null   float64\n",
            " 11  lionsgate                      4226 non-null   int64  \n",
            " 12  mgm                            4226 non-null   int64  \n",
            " 13  other                          4226 non-null   int64  \n",
            " 14  paramount                      4226 non-null   int64  \n",
            " 15  G                              4226 non-null   int64  \n",
            " 16  NC-17                          4226 non-null   int64  \n",
            " 17  NotRated                       4226 non-null   int64  \n",
            " 18  PG                             4226 non-null   int64  \n",
            " 19  PG-13                          4226 non-null   int64  \n",
            " 20  R                              4226 non-null   int64  \n",
            " 21  BAFTA                          4226 non-null   int64  \n",
            " 22  Golden Globe                   4226 non-null   int64  \n",
            " 23  Oscar                          4226 non-null   int64  \n",
            " 24  no award                       4226 non-null   int64  \n",
            " 25  other award                    4226 non-null   int64  \n",
            " 26  Action                         4226 non-null   int64  \n",
            " 27  Adventure                      4226 non-null   int64  \n",
            " 28  Animation                      4226 non-null   int64  \n",
            " 29  Comedy                         4226 non-null   int64  \n",
            " 30  Crime                          4226 non-null   int64  \n",
            " 31  Documentary                    4226 non-null   int64  \n",
            " 32  Drama                          4226 non-null   int64  \n",
            " 33  Fantasy                        4226 non-null   int64  \n",
            " 34  Foreign/International          4226 non-null   int64  \n",
            " 35  Horror                         4226 non-null   int64  \n",
            " 36  Independent                    4226 non-null   int64  \n",
            " 37  Kids & Family                  4226 non-null   int64  \n",
            " 38  Music                          4226 non-null   int64  \n",
            " 39  Musicals                       4226 non-null   int64  \n",
            " 40  Mystery                        4226 non-null   int64  \n",
            " 41  Romance                        4226 non-null   int64  \n",
            " 42  Sci-Fi                         4226 non-null   int64  \n",
            " 43  Sport                          4226 non-null   int64  \n",
            " 44  Thriller                       4226 non-null   int64  \n",
            " 45  War                            4226 non-null   int64  \n",
            " 46  Western                        4226 non-null   int64  \n",
            " 47  Misc_genres                    4226 non-null   int64  \n",
            " 48  1916-1974                      4226 non-null   int64  \n",
            " 49  1974-1991                      4226 non-null   int64  \n",
            " 50  1991-2001                      4226 non-null   int64  \n",
            " 51  2001-2006                      4226 non-null   int64  \n",
            " 52  2006-2008                      4226 non-null   int64  \n",
            " 53  2008-2010                      4226 non-null   int64  \n",
            " 54  2010-2012                      4226 non-null   int64  \n",
            " 55  2012-2013                      4226 non-null   int64  \n",
            " 56  2013-2014                      4226 non-null   int64  \n",
            " 57  2014-2017                      4226 non-null   int64  \n",
            "dtypes: float64(8), int64(50)\n",
            "memory usage: 1.9 MB\n",
            "None\n"
          ],
          "name": "stdout"
        }
      ]
    },
    {
      "cell_type": "markdown",
      "metadata": {
        "id": "2DcCzUhrRrJh",
        "colab_type": "text"
      },
      "source": [
        "There are two most common used scaling method: normalization and standardscaler\n",
        "If there are no specific requirement for the range of output, we choose to use standardscaler"
      ]
    },
    {
      "cell_type": "markdown",
      "metadata": {
        "id": "XqN_tYv537ak",
        "colab_type": "text"
      },
      "source": [
        "## 2.3 Feature scaling"
      ]
    },
    {
      "cell_type": "markdown",
      "metadata": {
        "id": "Qbgz-PeU3-PK",
        "colab_type": "text"
      },
      "source": [
        "The impact of different scaling methods on the model performance is small. In the following model training and selections, the standard scaling (sc) data is used."
      ]
    },
    {
      "cell_type": "code",
      "metadata": {
        "id": "ukI1bTdTPuZK",
        "colab_type": "code",
        "colab": {
          "base_uri": "https://localhost:8080/",
          "height": 241
        },
        "outputId": "b8c2635d-1ab0-4875-cbc1-4c00624a884b"
      },
      "source": [
        "#Standard scaling\n",
        "scale_lst = ['weighted_categorical_position', 'weighted_horizontal_poition', 'budget','boxoffice', \n",
        "             'imdb_votes','imdb_rating','duration_in_mins', 'metacritic_score','star_category']\n",
        "newTV_sc = newTV1.copy()\n",
        "\n",
        "sc_scale = preprocessing.StandardScaler().fit(newTV_sc[scale_lst])\n",
        "newTV_sc[scale_lst] = sc_scale.transform(newTV_sc[scale_lst])\n",
        "newTV_sc.head()\n"
      ],
      "execution_count": null,
      "outputs": [
        {
          "output_type": "execute_result",
          "data": {
            "text/html": [
              "<div>\n",
              "<style scoped>\n",
              "    .dataframe tbody tr th:only-of-type {\n",
              "        vertical-align: middle;\n",
              "    }\n",
              "\n",
              "    .dataframe tbody tr th {\n",
              "        vertical-align: top;\n",
              "    }\n",
              "\n",
              "    .dataframe thead th {\n",
              "        text-align: right;\n",
              "    }\n",
              "</style>\n",
              "<table border=\"1\" class=\"dataframe\">\n",
              "  <thead>\n",
              "    <tr style=\"text-align: right;\">\n",
              "      <th></th>\n",
              "      <th>video_id</th>\n",
              "      <th>cvt_per_day</th>\n",
              "      <th>weighted_categorical_position</th>\n",
              "      <th>weighted_horizontal_poition</th>\n",
              "      <th>imdb_votes</th>\n",
              "      <th>budget</th>\n",
              "      <th>boxoffice</th>\n",
              "      <th>imdb_rating</th>\n",
              "      <th>duration_in_mins</th>\n",
              "      <th>metacritic_score</th>\n",
              "      <th>star_category</th>\n",
              "      <th>lionsgate</th>\n",
              "      <th>mgm</th>\n",
              "      <th>other</th>\n",
              "      <th>paramount</th>\n",
              "      <th>G</th>\n",
              "      <th>NC-17</th>\n",
              "      <th>NotRated</th>\n",
              "      <th>PG</th>\n",
              "      <th>PG-13</th>\n",
              "      <th>R</th>\n",
              "      <th>BAFTA</th>\n",
              "      <th>Golden Globe</th>\n",
              "      <th>Oscar</th>\n",
              "      <th>no award</th>\n",
              "      <th>other award</th>\n",
              "      <th>Action</th>\n",
              "      <th>Adventure</th>\n",
              "      <th>Animation</th>\n",
              "      <th>Comedy</th>\n",
              "      <th>Crime</th>\n",
              "      <th>Documentary</th>\n",
              "      <th>Drama</th>\n",
              "      <th>Fantasy</th>\n",
              "      <th>Foreign/International</th>\n",
              "      <th>Horror</th>\n",
              "      <th>Independent</th>\n",
              "      <th>Kids &amp; Family</th>\n",
              "      <th>Music</th>\n",
              "      <th>Musicals</th>\n",
              "      <th>Mystery</th>\n",
              "      <th>Romance</th>\n",
              "      <th>Sci-Fi</th>\n",
              "      <th>Sport</th>\n",
              "      <th>Thriller</th>\n",
              "      <th>War</th>\n",
              "      <th>Western</th>\n",
              "      <th>Misc_genres</th>\n",
              "      <th>1916-1974</th>\n",
              "      <th>1974-1991</th>\n",
              "      <th>1991-2001</th>\n",
              "      <th>2001-2006</th>\n",
              "      <th>2006-2008</th>\n",
              "      <th>2008-2010</th>\n",
              "      <th>2010-2012</th>\n",
              "      <th>2012-2013</th>\n",
              "      <th>2013-2014</th>\n",
              "      <th>2014-2017</th>\n",
              "    </tr>\n",
              "  </thead>\n",
              "  <tbody>\n",
              "    <tr>\n",
              "      <th>0</th>\n",
              "      <td>385504</td>\n",
              "      <td>307127.606</td>\n",
              "      <td>-1.106</td>\n",
              "      <td>-2.116</td>\n",
              "      <td>1.984</td>\n",
              "      <td>1.470</td>\n",
              "      <td>4.696</td>\n",
              "      <td>0.542</td>\n",
              "      <td>1.079</td>\n",
              "      <td>-0.630</td>\n",
              "      <td>0.033</td>\n",
              "      <td>1</td>\n",
              "      <td>0</td>\n",
              "      <td>0</td>\n",
              "      <td>0</td>\n",
              "      <td>0</td>\n",
              "      <td>0</td>\n",
              "      <td>0</td>\n",
              "      <td>0</td>\n",
              "      <td>1</td>\n",
              "      <td>0</td>\n",
              "      <td>0</td>\n",
              "      <td>0</td>\n",
              "      <td>0</td>\n",
              "      <td>0</td>\n",
              "      <td>1</td>\n",
              "      <td>1</td>\n",
              "      <td>0</td>\n",
              "      <td>0</td>\n",
              "      <td>0</td>\n",
              "      <td>0</td>\n",
              "      <td>0</td>\n",
              "      <td>1</td>\n",
              "      <td>0</td>\n",
              "      <td>0</td>\n",
              "      <td>0</td>\n",
              "      <td>0</td>\n",
              "      <td>0</td>\n",
              "      <td>0</td>\n",
              "      <td>0</td>\n",
              "      <td>0</td>\n",
              "      <td>0</td>\n",
              "      <td>0</td>\n",
              "      <td>0</td>\n",
              "      <td>1</td>\n",
              "      <td>0</td>\n",
              "      <td>0</td>\n",
              "      <td>0</td>\n",
              "      <td>0</td>\n",
              "      <td>0</td>\n",
              "      <td>0</td>\n",
              "      <td>0</td>\n",
              "      <td>0</td>\n",
              "      <td>0</td>\n",
              "      <td>0</td>\n",
              "      <td>1</td>\n",
              "      <td>0</td>\n",
              "      <td>0</td>\n",
              "    </tr>\n",
              "    <tr>\n",
              "      <th>1</th>\n",
              "      <td>300175</td>\n",
              "      <td>270338.426</td>\n",
              "      <td>-1.106</td>\n",
              "      <td>-2.116</td>\n",
              "      <td>1.258</td>\n",
              "      <td>1.470</td>\n",
              "      <td>-1.022</td>\n",
              "      <td>0.542</td>\n",
              "      <td>0.257</td>\n",
              "      <td>-1.997</td>\n",
              "      <td>3.434</td>\n",
              "      <td>1</td>\n",
              "      <td>0</td>\n",
              "      <td>0</td>\n",
              "      <td>0</td>\n",
              "      <td>0</td>\n",
              "      <td>0</td>\n",
              "      <td>0</td>\n",
              "      <td>0</td>\n",
              "      <td>0</td>\n",
              "      <td>1</td>\n",
              "      <td>0</td>\n",
              "      <td>0</td>\n",
              "      <td>0</td>\n",
              "      <td>1</td>\n",
              "      <td>0</td>\n",
              "      <td>0</td>\n",
              "      <td>0</td>\n",
              "      <td>0</td>\n",
              "      <td>1</td>\n",
              "      <td>1</td>\n",
              "      <td>0</td>\n",
              "      <td>0</td>\n",
              "      <td>0</td>\n",
              "      <td>0</td>\n",
              "      <td>0</td>\n",
              "      <td>0</td>\n",
              "      <td>0</td>\n",
              "      <td>0</td>\n",
              "      <td>0</td>\n",
              "      <td>0</td>\n",
              "      <td>0</td>\n",
              "      <td>0</td>\n",
              "      <td>0</td>\n",
              "      <td>1</td>\n",
              "      <td>0</td>\n",
              "      <td>0</td>\n",
              "      <td>0</td>\n",
              "      <td>0</td>\n",
              "      <td>0</td>\n",
              "      <td>0</td>\n",
              "      <td>0</td>\n",
              "      <td>0</td>\n",
              "      <td>0</td>\n",
              "      <td>0</td>\n",
              "      <td>1</td>\n",
              "      <td>0</td>\n",
              "      <td>0</td>\n",
              "    </tr>\n",
              "    <tr>\n",
              "      <th>2</th>\n",
              "      <td>361899</td>\n",
              "      <td>256165.867</td>\n",
              "      <td>-1.106</td>\n",
              "      <td>-2.116</td>\n",
              "      <td>6.043</td>\n",
              "      <td>3.108</td>\n",
              "      <td>3.898</td>\n",
              "      <td>1.100</td>\n",
              "      <td>1.243</td>\n",
              "      <td>0.327</td>\n",
              "      <td>2.102</td>\n",
              "      <td>0</td>\n",
              "      <td>0</td>\n",
              "      <td>1</td>\n",
              "      <td>0</td>\n",
              "      <td>0</td>\n",
              "      <td>0</td>\n",
              "      <td>0</td>\n",
              "      <td>0</td>\n",
              "      <td>0</td>\n",
              "      <td>1</td>\n",
              "      <td>0</td>\n",
              "      <td>0</td>\n",
              "      <td>0</td>\n",
              "      <td>0</td>\n",
              "      <td>1</td>\n",
              "      <td>0</td>\n",
              "      <td>0</td>\n",
              "      <td>0</td>\n",
              "      <td>0</td>\n",
              "      <td>1</td>\n",
              "      <td>0</td>\n",
              "      <td>1</td>\n",
              "      <td>0</td>\n",
              "      <td>0</td>\n",
              "      <td>0</td>\n",
              "      <td>0</td>\n",
              "      <td>0</td>\n",
              "      <td>0</td>\n",
              "      <td>0</td>\n",
              "      <td>0</td>\n",
              "      <td>0</td>\n",
              "      <td>0</td>\n",
              "      <td>0</td>\n",
              "      <td>0</td>\n",
              "      <td>0</td>\n",
              "      <td>0</td>\n",
              "      <td>0</td>\n",
              "      <td>0</td>\n",
              "      <td>0</td>\n",
              "      <td>0</td>\n",
              "      <td>0</td>\n",
              "      <td>0</td>\n",
              "      <td>0</td>\n",
              "      <td>1</td>\n",
              "      <td>0</td>\n",
              "      <td>0</td>\n",
              "      <td>0</td>\n",
              "    </tr>\n",
              "    <tr>\n",
              "      <th>3</th>\n",
              "      <td>308314</td>\n",
              "      <td>196622.721</td>\n",
              "      <td>-0.780</td>\n",
              "      <td>-2.032</td>\n",
              "      <td>11.077</td>\n",
              "      <td>1.470</td>\n",
              "      <td>0.767</td>\n",
              "      <td>1.309</td>\n",
              "      <td>1.952</td>\n",
              "      <td>5.250</td>\n",
              "      <td>-0.063</td>\n",
              "      <td>1</td>\n",
              "      <td>0</td>\n",
              "      <td>0</td>\n",
              "      <td>0</td>\n",
              "      <td>0</td>\n",
              "      <td>0</td>\n",
              "      <td>0</td>\n",
              "      <td>0</td>\n",
              "      <td>0</td>\n",
              "      <td>1</td>\n",
              "      <td>0</td>\n",
              "      <td>0</td>\n",
              "      <td>1</td>\n",
              "      <td>0</td>\n",
              "      <td>0</td>\n",
              "      <td>1</td>\n",
              "      <td>0</td>\n",
              "      <td>0</td>\n",
              "      <td>0</td>\n",
              "      <td>0</td>\n",
              "      <td>1</td>\n",
              "      <td>1</td>\n",
              "      <td>0</td>\n",
              "      <td>0</td>\n",
              "      <td>0</td>\n",
              "      <td>0</td>\n",
              "      <td>0</td>\n",
              "      <td>0</td>\n",
              "      <td>0</td>\n",
              "      <td>1</td>\n",
              "      <td>0</td>\n",
              "      <td>0</td>\n",
              "      <td>0</td>\n",
              "      <td>1</td>\n",
              "      <td>1</td>\n",
              "      <td>0</td>\n",
              "      <td>0</td>\n",
              "      <td>0</td>\n",
              "      <td>0</td>\n",
              "      <td>0</td>\n",
              "      <td>0</td>\n",
              "      <td>1</td>\n",
              "      <td>0</td>\n",
              "      <td>0</td>\n",
              "      <td>0</td>\n",
              "      <td>0</td>\n",
              "      <td>0</td>\n",
              "    </tr>\n",
              "    <tr>\n",
              "      <th>4</th>\n",
              "      <td>307201</td>\n",
              "      <td>159841.652</td>\n",
              "      <td>-1.106</td>\n",
              "      <td>-2.116</td>\n",
              "      <td>1.258</td>\n",
              "      <td>3.290</td>\n",
              "      <td>-0.265</td>\n",
              "      <td>0.472</td>\n",
              "      <td>0.758</td>\n",
              "      <td>-2.544</td>\n",
              "      <td>3.029</td>\n",
              "      <td>1</td>\n",
              "      <td>0</td>\n",
              "      <td>0</td>\n",
              "      <td>0</td>\n",
              "      <td>0</td>\n",
              "      <td>0</td>\n",
              "      <td>0</td>\n",
              "      <td>0</td>\n",
              "      <td>0</td>\n",
              "      <td>1</td>\n",
              "      <td>0</td>\n",
              "      <td>0</td>\n",
              "      <td>0</td>\n",
              "      <td>0</td>\n",
              "      <td>1</td>\n",
              "      <td>0</td>\n",
              "      <td>0</td>\n",
              "      <td>0</td>\n",
              "      <td>0</td>\n",
              "      <td>1</td>\n",
              "      <td>1</td>\n",
              "      <td>0</td>\n",
              "      <td>0</td>\n",
              "      <td>0</td>\n",
              "      <td>0</td>\n",
              "      <td>0</td>\n",
              "      <td>0</td>\n",
              "      <td>0</td>\n",
              "      <td>0</td>\n",
              "      <td>1</td>\n",
              "      <td>0</td>\n",
              "      <td>0</td>\n",
              "      <td>0</td>\n",
              "      <td>1</td>\n",
              "      <td>0</td>\n",
              "      <td>0</td>\n",
              "      <td>0</td>\n",
              "      <td>0</td>\n",
              "      <td>0</td>\n",
              "      <td>0</td>\n",
              "      <td>0</td>\n",
              "      <td>0</td>\n",
              "      <td>0</td>\n",
              "      <td>0</td>\n",
              "      <td>1</td>\n",
              "      <td>0</td>\n",
              "      <td>0</td>\n",
              "    </tr>\n",
              "  </tbody>\n",
              "</table>\n",
              "</div>"
            ],
            "text/plain": [
              "   video_id  cvt_per_day  weighted_categorical_position  \\\n",
              "0    385504   307127.606                         -1.106   \n",
              "1    300175   270338.426                         -1.106   \n",
              "2    361899   256165.867                         -1.106   \n",
              "3    308314   196622.721                         -0.780   \n",
              "4    307201   159841.652                         -1.106   \n",
              "\n",
              "   weighted_horizontal_poition  imdb_votes  budget  boxoffice  imdb_rating  \\\n",
              "0                       -2.116       1.984   1.470      4.696        0.542   \n",
              "1                       -2.116       1.258   1.470     -1.022        0.542   \n",
              "2                       -2.116       6.043   3.108      3.898        1.100   \n",
              "3                       -2.032      11.077   1.470      0.767        1.309   \n",
              "4                       -2.116       1.258   3.290     -0.265        0.472   \n",
              "\n",
              "   duration_in_mins  metacritic_score  star_category  lionsgate  mgm  other  \\\n",
              "0             1.079            -0.630          0.033          1    0      0   \n",
              "1             0.257            -1.997          3.434          1    0      0   \n",
              "2             1.243             0.327          2.102          0    0      1   \n",
              "3             1.952             5.250         -0.063          1    0      0   \n",
              "4             0.758            -2.544          3.029          1    0      0   \n",
              "\n",
              "   paramount  G  NC-17  NotRated  PG  PG-13  R  BAFTA  Golden Globe  Oscar  \\\n",
              "0          0  0      0         0   0      1  0      0             0      0   \n",
              "1          0  0      0         0   0      0  1      0             0      0   \n",
              "2          0  0      0         0   0      0  1      0             0      0   \n",
              "3          0  0      0         0   0      0  1      0             0      1   \n",
              "4          0  0      0         0   0      0  1      0             0      0   \n",
              "\n",
              "   no award  other award  Action  Adventure  Animation  Comedy  Crime  \\\n",
              "0         0            1       1          0          0       0      0   \n",
              "1         1            0       0          0          0       1      1   \n",
              "2         0            1       0          0          0       0      1   \n",
              "3         0            0       1          0          0       0      0   \n",
              "4         0            1       0          0          0       0      1   \n",
              "\n",
              "   Documentary  Drama  Fantasy  Foreign/International  Horror  Independent  \\\n",
              "0            0      1        0                      0       0            0   \n",
              "1            0      0        0                      0       0            0   \n",
              "2            0      1        0                      0       0            0   \n",
              "3            1      1        0                      0       0            0   \n",
              "4            1      0        0                      0       0            0   \n",
              "\n",
              "   Kids & Family  Music  Musicals  Mystery  Romance  Sci-Fi  Sport  Thriller  \\\n",
              "0              0      0         0        0        0       0      0         1   \n",
              "1              0      0         0        0        0       0      0         1   \n",
              "2              0      0         0        0        0       0      0         0   \n",
              "3              0      0         0        1        0       0      0         1   \n",
              "4              0      0         0        1        0       0      0         1   \n",
              "\n",
              "   War  Western  Misc_genres  1916-1974  1974-1991  1991-2001  2001-2006  \\\n",
              "0    0        0            0          0          0          0          0   \n",
              "1    0        0            0          0          0          0          0   \n",
              "2    0        0            0          0          0          0          0   \n",
              "3    1        0            0          0          0          0          0   \n",
              "4    0        0            0          0          0          0          0   \n",
              "\n",
              "   2006-2008  2008-2010  2010-2012  2012-2013  2013-2014  2014-2017  \n",
              "0          0          0          0          1          0          0  \n",
              "1          0          0          0          1          0          0  \n",
              "2          0          0          1          0          0          0  \n",
              "3          1          0          0          0          0          0  \n",
              "4          0          0          0          1          0          0  "
            ]
          },
          "metadata": {
            "tags": []
          },
          "execution_count": 20
        }
      ]
    },
    {
      "cell_type": "markdown",
      "metadata": {
        "id": "jVDrj0qG4KZp",
        "colab_type": "text"
      },
      "source": [
        ""
      ]
    },
    {
      "cell_type": "code",
      "metadata": {
        "id": "KlvOiEqz4LWH",
        "colab_type": "code",
        "colab": {}
      },
      "source": [
        "# MinMax scaling\n",
        "newTV_mm = newTV.copy()\n",
        "mm_scale = preprocessing.MinMaxScaler().fit(newTV_mm[scale_lst])\n",
        "newTV_mm[scale_lst] = mm_scale.transform(newTV_mm[scale_lst])"
      ],
      "execution_count": null,
      "outputs": []
    },
    {
      "cell_type": "code",
      "metadata": {
        "id": "urBobvmf4Lvr",
        "colab_type": "code",
        "colab": {}
      },
      "source": [
        "# Robust scaling\n",
        "newTV_rs = newTV.copy()\n",
        "rs_scale = preprocessing.RobustScaler().fit(newTV_mm[scale_lst])\n",
        "newTV_rs[scale_lst] = rs_scale.transform(newTV_rs[scale_lst])"
      ],
      "execution_count": null,
      "outputs": []
    },
    {
      "cell_type": "markdown",
      "metadata": {
        "id": "TpuYM0uv4OnC",
        "colab_type": "text"
      },
      "source": [
        "# Part 3: Model Training"
      ]
    },
    {
      "cell_type": "code",
      "metadata": {
        "id": "Z0wDBXROSAe-",
        "colab_type": "code",
        "colab": {}
      },
      "source": [
        "train, test = train_test_split(newTV_sc, test_size=0.15, random_state = 3)\n",
        "model_train_x = train.drop(['video_id', 'cvt_per_day'], axis = 1)\n",
        "model_test_x = test.drop(['video_id', 'cvt_per_day'], axis = 1)\n",
        "model_train_y = train['cvt_per_day']\n",
        "model_test_y = test['cvt_per_day']"
      ],
      "execution_count": null,
      "outputs": []
    },
    {
      "cell_type": "markdown",
      "metadata": {
        "id": "a715kJX94Ukb",
        "colab_type": "text"
      },
      "source": [
        "### 3.1 Lasso linear regression"
      ]
    },
    {
      "cell_type": "code",
      "metadata": {
        "id": "jXNJRu0eYgiv",
        "colab_type": "code",
        "colab": {
          "base_uri": "https://localhost:8080/",
          "height": 329
        },
        "outputId": "c4c94578-90c8-4ff2-83b6-5fde50c99fd0"
      },
      "source": [
        "from sklearn.model_selection import train_test_split\n",
        "from sklearn.linear_model import LinearRegression, Lasso, Ridge\n",
        "from sklearn.metrics import mean_squared_error, r2_score\n",
        "from math import sqrt\n",
        "\n",
        "lr_train, lr_validate = train_test_split(train, test_size=0.15, random_state = 0)\n",
        "\n",
        "lr_train_x = lr_train.drop(['video_id', 'cvt_per_day'], axis = 1)\n",
        "lr_validate_x = lr_validate.drop(['video_id', 'cvt_per_day'], axis = 1)\n",
        "lr_train_y = lr_train['cvt_per_day']\n",
        "lr_validate_y = lr_validate['cvt_per_day']\n",
        "\n",
        "alphas = np.logspace (-0.3, 2.5, num=150)\n",
        "# alphas= [0.000000001]\n",
        "scores = np.empty_like(alphas)\n",
        "opt_a = float('-inf')\n",
        "max_score = float('-inf')\n",
        "for i, a in enumerate(alphas):\n",
        "    lasso = Lasso()\n",
        "    lasso.set_params(alpha = a)\n",
        "    lasso.fit(lr_train_x, lr_train_y)\n",
        "    scores[i] = lasso.score(lr_validate_x, lr_validate_y)\n",
        "    if scores[i] > max_score:\n",
        "        max_score = scores[i]\n",
        "        opt_a = a\n",
        "        lasso_save = lasso\n",
        "plt.plot(alphas, scores, color='b', linestyle='dashed', marker='o',markerfacecolor='blue', markersize=6)\n",
        "plt.xlabel('alpha')\n",
        "plt.ylabel('score')\n",
        "plt.grid(True)\n",
        "plt.title('score vs. alpha')\n",
        "plt.show()\n",
        "model1_para = opt_a\n",
        "print ('The optimaized alpha and score of Lasso linear is: '), opt_a, max_score\n"
      ],
      "execution_count": null,
      "outputs": [
        {
          "output_type": "display_data",
          "data": {
            "image/png": "[encoded data removed]",
            "text/plain": [
              "<Figure size 432x288 with 1 Axes>"
            ]
          },
          "metadata": {
            "tags": [],
            "needs_background": "light"
          }
        },
        {
          "output_type": "stream",
          "text": [
            "The optimaized alpha and score of Lasso linear is: \n"
          ],
          "name": "stdout"
        },
        {
          "output_type": "execute_result",
          "data": {
            "text/plain": [
              "(None, 122.06107238906554, 0.36457853302954246)"
            ]
          },
          "metadata": {
            "tags": []
          },
          "execution_count": 24
        }
      ]
    },
    {
      "cell_type": "code",
      "metadata": {
        "id": "w6o_T8LK6tp3",
        "colab_type": "code",
        "colab": {
          "base_uri": "https://localhost:8080/",
          "height": 68
        },
        "outputId": "679b8368-e312-45f2-b531-0f0296ad4b20"
      },
      "source": [
        "# combine the validate data and training data, use the optimal alpha, re-train the model\n",
        "lasso_f = Lasso()\n",
        "lasso_f.set_params(alpha = opt_a)\n",
        "lasso_f.fit(model_train_x, model_train_y)\n"
      ],
      "execution_count": null,
      "outputs": [
        {
          "output_type": "execute_result",
          "data": {
            "text/plain": [
              "Lasso(alpha=122.06107238906554, copy_X=True, fit_intercept=True, max_iter=1000,\n",
              "      normalize=False, positive=False, precompute=False, random_state=None,\n",
              "      selection='cyclic', tol=0.0001, warm_start=False)"
            ]
          },
          "metadata": {
            "tags": []
          },
          "execution_count": 25
        }
      ]
    },
    {
      "cell_type": "markdown",
      "metadata": {
        "id": "xwTJbv2oBvdm",
        "colab_type": "text"
      },
      "source": [
        "## 3.2 Ridge linear regression"
      ]
    },
    {
      "cell_type": "code",
      "metadata": {
        "id": "SbLyWw9U0ZO0",
        "colab_type": "code",
        "colab": {
          "base_uri": "https://localhost:8080/",
          "height": 329
        },
        "outputId": "28858d83-3762-46d4-9fb8-28e5180670f9"
      },
      "source": [
        "# Use the same training data set as Lasso (linear features)\n",
        "lr_train, lr_validate = train_test_split(train, test_size=0.15, random_state = 0)\n",
        "\n",
        "alphas = np.logspace (-10, 3, num=150)\n",
        "# alphas= [0.000000001]\n",
        "scores = np.empty_like(alphas)\n",
        "opt_a = float('-inf')\n",
        "max_score = float('-inf')\n",
        "for i, a in enumerate(alphas):\n",
        "    ridge = Ridge()\n",
        "    ridge.set_params(alpha = a)\n",
        "    ridge.fit(lr_train_x, lr_train_y)\n",
        "    scores[i] = ridge.score(lr_validate_x, lr_validate_y)\n",
        "    if scores[i] > max_score:\n",
        "        max_score = scores[i]\n",
        "        opt_a = a\n",
        "        ridge_save = ridge\n",
        "plt.plot(alphas, scores, color='r', linestyle='dashed', marker='o',markerfacecolor='r', markersize=6)\n",
        "plt.xlabel('alpha')\n",
        "plt.ylabel('score')\n",
        "plt.grid(True)\n",
        "plt.title('score vs. alpha')\n",
        "plt.show()\n",
        "model3_para = opt_a\n",
        "print ('The optimaized alpha and score of Ridge linear is: '), opt_a, max_score"
      ],
      "execution_count": null,
      "outputs": [
        {
          "output_type": "display_data",
          "data": {
            "image/png": "[encoded data removed]",
            "text/plain": [
              "<Figure size 432x288 with 1 Axes>"
            ]
          },
          "metadata": {
            "tags": [],
            "needs_background": "light"
          }
        },
        {
          "output_type": "stream",
          "text": [
            "The optimaized alpha and score of Ridge linear is: \n"
          ],
          "name": "stdout"
        },
        {
          "output_type": "execute_result",
          "data": {
            "text/plain": [
              "(None, 163.97026580002054, 0.35296043098491625)"
            ]
          },
          "metadata": {
            "tags": []
          },
          "execution_count": 26
        }
      ]
    },
    {
      "cell_type": "code",
      "metadata": {
        "id": "XxEqMw4iE9XZ",
        "colab_type": "code",
        "colab": {
          "base_uri": "https://localhost:8080/",
          "height": 51
        },
        "outputId": "749d0cf4-c4b9-442d-affd-3183643f854e"
      },
      "source": [
        "# add the 15% validate data, use the optimal alpha, re-train the model\n",
        "\n",
        "ridge_f = Ridge()\n",
        "ridge_f.set_params(alpha = opt_a)\n",
        "ridge_f.fit(model_train_x, model_train_y)\n",
        "\n",
        "# ridge_f is the Ridge model (linear feature), to be tested with test data."
      ],
      "execution_count": null,
      "outputs": [
        {
          "output_type": "execute_result",
          "data": {
            "text/plain": [
              "Ridge(alpha=163.97026580002054, copy_X=True, fit_intercept=True, max_iter=None,\n",
              "      normalize=False, random_state=None, solver='auto', tol=0.001)"
            ]
          },
          "metadata": {
            "tags": []
          },
          "execution_count": 27
        }
      ]
    },
    {
      "cell_type": "markdown",
      "metadata": {
        "id": "T8k96l4UFhoy",
        "colab_type": "text"
      },
      "source": [
        "##3.3 Random Forest"
      ]
    },
    {
      "cell_type": "code",
      "metadata": {
        "id": "jpHVKREP5FmB",
        "colab_type": "code",
        "colab": {
          "base_uri": "https://localhost:8080/",
          "height": 357
        },
        "outputId": "b7ac2d17-1a8a-4f99-c161-8a316c66763e"
      },
      "source": [
        "from sklearn.ensemble import RandomForestRegressor\n",
        "from sklearn.model_selection import GridSearchCV\n",
        "rf=RandomForestRegressor(random_state=2,max_features='sqrt',n_jobs=-1)\n",
        "param_grid={'n_estimators':[55,56,57,58,59,60,61,62,63,64,65],'max_depth':[15,16,17,18,19,20,21]}\n",
        "clf=GridSearchCV(estimator=rf,param_grid=param_grid,cv=5,refit=True,n_jobs=-1,pre_dispatch='2*n_jobs')\n",
        "clf.fit(model_train_x,model_train_y)"
      ],
      "execution_count": null,
      "outputs": [
        {
          "output_type": "execute_result",
          "data": {
            "text/plain": [
              "GridSearchCV(cv=5, error_score=nan,\n",
              "             estimator=RandomForestRegressor(bootstrap=True, ccp_alpha=0.0,\n",
              "                                             criterion='mse', max_depth=None,\n",
              "                                             max_features='sqrt',\n",
              "                                             max_leaf_nodes=None,\n",
              "                                             max_samples=None,\n",
              "                                             min_impurity_decrease=0.0,\n",
              "                                             min_impurity_split=None,\n",
              "                                             min_samples_leaf=1,\n",
              "                                             min_samples_split=2,\n",
              "                                             min_weight_fraction_leaf=0.0,\n",
              "                                             n_estimators=100, n_jobs=-1,\n",
              "                                             oob_score=False, random_state=2,\n",
              "                                             verbose=0, warm_start=False),\n",
              "             iid='deprecated', n_jobs=-1,\n",
              "             param_grid={'max_depth': [15, 16, 17, 18, 19, 20, 21],\n",
              "                         'n_estimators': [55, 56, 57, 58, 59, 60, 61, 62, 63,\n",
              "                                          64, 65]},\n",
              "             pre_dispatch='2*n_jobs', refit=True, return_train_score=False,\n",
              "             scoring=None, verbose=0)"
            ]
          },
          "metadata": {
            "tags": []
          },
          "execution_count": 28
        }
      ]
    },
    {
      "cell_type": "code",
      "metadata": {
        "id": "e6aNH8hemOZR",
        "colab_type": "code",
        "colab": {
          "base_uri": "https://localhost:8080/",
          "height": 1000
        },
        "outputId": "e5e8097b-acb8-4a5e-e5a4-9cd6d24d1ab6"
      },
      "source": [
        "result=clf.cv_results_\n",
        "print(result)\n",
        "max_depth=[15,16,17,18,19,20,21]\n",
        "n_estimators=[55,56,57,58,59,60,61,62,63,64,65]\n",
        "scores=clf.cv_results_['mean_test_score'].reshape(len(max_depth),len(n_estimators))\n",
        "plt.figure(1)\n",
        "plt.subplot(1,1,1)\n",
        "for i,j in enumerate(max_depth):\n",
        "  plt.plot(n_estimators,scores[i],'-o',label='max_depths is: '+str(j))\n",
        "plt.legend(bbox_to_anchor=(1.05, 1), loc='upper left', borderaxespad=0.)\n",
        "plt.xlabel('mean_test_score')\n",
        "plt.ylabel('n_estimators')\n",
        "plt.show()\n",
        "print('the best parameter for max_depth is: '+str(clf.best_params_['max_depth']))\n",
        "print('the best parameter for n_estimators is: '+str(clf.best_params_['n_estimators']))\n",
        "\n"
      ],
      "execution_count": null,
      "outputs": [
        {
          "output_type": "stream",
          "text": [
            "{'mean_fit_time': array([0.42539215, 0.44359303, 0.42286067, 0.44187751, 0.44464579,\n",
            "       0.4289299 , 0.42191763, 0.43843536, 0.41020589, 0.43977757,\n",
            "       0.49332151, 0.43972425, 0.42791128, 0.44387369, 0.42355404,\n",
            "       0.44135265, 0.42826877, 0.44481988, 0.48768773, 0.54322286,\n",
            "       0.53263359, 0.52928233, 0.48069525, 0.49515443, 0.46709847,\n",
            "       0.41648598, 0.44285197, 0.44691968, 0.42448621, 0.47082767,\n",
            "       0.49321194, 0.52924271, 0.55018768, 0.48622575, 0.42721634,\n",
            "       0.44550471, 0.43515196, 0.45111666, 0.44827571, 0.46542072,\n",
            "       0.47359338, 0.47960377, 0.5198844 , 0.54210486, 0.46542249,\n",
            "       0.44014282, 0.44827914, 0.44821053, 0.46150489, 0.46330695,\n",
            "       0.48863521, 0.5493    , 0.52975636, 0.54380655, 0.53495188,\n",
            "       0.44453001, 0.43548608, 0.52731481, 0.52877831, 0.5423533 ,\n",
            "       0.53191996, 0.54424047, 0.53091087, 0.54511271, 0.51284904,\n",
            "       0.52900238, 0.50219479, 0.5405436 , 0.53215618, 0.54684873,\n",
            "       0.53264236, 0.49327264, 0.52731671, 0.52019691, 0.53840523,\n",
            "       0.54905715, 0.54860497]), 'std_fit_time': array([0.03321671, 0.01529291, 0.03930819, 0.01193156, 0.01559618,\n",
            "       0.03629424, 0.04975825, 0.04389758, 0.04827303, 0.01325068,\n",
            "       0.08099017, 0.01654672, 0.03024994, 0.01469459, 0.03551468,\n",
            "       0.01204377, 0.03091501, 0.01661345, 0.07961813, 0.0114602 ,\n",
            "       0.04057103, 0.0306188 , 0.04626301, 0.03781247, 0.04252738,\n",
            "       0.04606801, 0.03717762, 0.01330678, 0.03356441, 0.04444518,\n",
            "       0.08056783, 0.04309007, 0.01447598, 0.05523094, 0.03321845,\n",
            "       0.01309319, 0.04405048, 0.01014055, 0.0039636 , 0.01154375,\n",
            "       0.03858069, 0.04784679, 0.04852976, 0.01174302, 0.04081654,\n",
            "       0.01149152, 0.00949422, 0.00823288, 0.00983888, 0.00645083,\n",
            "       0.04428819, 0.0195201 , 0.04091664, 0.00898721, 0.03281091,\n",
            "       0.01118977, 0.0473993 , 0.03756845, 0.03841911, 0.01449165,\n",
            "       0.04116961, 0.01181054, 0.02740899, 0.01612871, 0.05431962,\n",
            "       0.03835796, 0.04251889, 0.00834992, 0.0367636 , 0.02083921,\n",
            "       0.0517398 , 0.04659591, 0.04053842, 0.02986483, 0.03158319,\n",
            "       0.00589464, 0.01184279]), 'mean_score_time': array([0.10729785, 0.10604167, 0.1063087 , 0.10583076, 0.10751033,\n",
            "       0.10581994, 0.10900283, 0.11113534, 0.10602412, 0.11054001,\n",
            "       0.10478134, 0.10744338, 0.10467601, 0.11042805, 0.10673652,\n",
            "       0.10766616, 0.10600157, 0.11201744, 0.1037096 , 0.105373  ,\n",
            "       0.10474038, 0.10402298, 0.10469236, 0.10386801, 0.10556364,\n",
            "       0.10839634, 0.10861902, 0.11236339, 0.10783706, 0.11153955,\n",
            "       0.10760374, 0.10804529, 0.10710998, 0.1086762 , 0.10769348,\n",
            "       0.11144476, 0.10976577, 0.10877004, 0.11154613, 0.10928659,\n",
            "       0.10714808, 0.10872083, 0.10519123, 0.1076335 , 0.10900912,\n",
            "       0.10796161, 0.11185913, 0.10856314, 0.11143627, 0.11075935,\n",
            "       0.11004257, 0.10776992, 0.10720506, 0.10627146, 0.11200414,\n",
            "       0.1096302 , 0.10899534, 0.10631089, 0.10417686, 0.10504808,\n",
            "       0.10772891, 0.10861454, 0.10824914, 0.11213732, 0.11025033,\n",
            "       0.10673428, 0.10409789, 0.10411592, 0.10630012, 0.10870829,\n",
            "       0.10914855, 0.10865936, 0.10826879, 0.1095428 , 0.10862141,\n",
            "       0.1060956 , 0.10860534]), 'std_score_time': array([0.00300795, 0.00311295, 0.00422098, 0.00163244, 0.00276431,\n",
            "       0.00243113, 0.00399614, 0.00294726, 0.00215798, 0.00359114,\n",
            "       0.00203278, 0.00357116, 0.00208547, 0.00319104, 0.00256407,\n",
            "       0.00285941, 0.00226914, 0.00281307, 0.0002253 , 0.00292954,\n",
            "       0.00212991, 0.00045227, 0.001874  , 0.00063156, 0.00338838,\n",
            "       0.00217401, 0.00335222, 0.00615354, 0.00297441, 0.00391811,\n",
            "       0.00415088, 0.00368002, 0.0039647 , 0.00400344, 0.0026255 ,\n",
            "       0.00474995, 0.00404216, 0.00321209, 0.00436506, 0.00350947,\n",
            "       0.00310385, 0.00166939, 0.00100255, 0.00487117, 0.00525525,\n",
            "       0.00565068, 0.00301539, 0.00239326, 0.00313566, 0.0059702 ,\n",
            "       0.00385641, 0.00318089, 0.00328258, 0.00255951, 0.00688202,\n",
            "       0.00177337, 0.00233729, 0.00308751, 0.0007331 , 0.00231913,\n",
            "       0.00482801, 0.0048787 , 0.00413389, 0.00290971, 0.00379423,\n",
            "       0.00259   , 0.00135689, 0.00116011, 0.00290257, 0.00444191,\n",
            "       0.0048867 , 0.00340063, 0.00571474, 0.00494767, 0.00387436,\n",
            "       0.00147474, 0.00553866]), 'param_max_depth': masked_array(data=[15, 15, 15, 15, 15, 15, 15, 15, 15, 15, 15, 16, 16, 16,\n",
            "                   16, 16, 16, 16, 16, 16, 16, 16, 17, 17, 17, 17, 17, 17,\n",
            "                   17, 17, 17, 17, 17, 18, 18, 18, 18, 18, 18, 18, 18, 18,\n",
            "                   18, 18, 19, 19, 19, 19, 19, 19, 19, 19, 19, 19, 19, 20,\n",
            "                   20, 20, 20, 20, 20, 20, 20, 20, 20, 20, 21, 21, 21, 21,\n",
            "                   21, 21, 21, 21, 21, 21, 21],\n",
            "             mask=[False, False, False, False, False, False, False, False,\n",
            "                   False, False, False, False, False, False, False, False,\n",
            "                   False, False, False, False, False, False, False, False,\n",
            "                   False, False, False, False, False, False, False, False,\n",
            "                   False, False, False, False, False, False, False, False,\n",
            "                   False, False, False, False, False, False, False, False,\n",
            "                   False, False, False, False, False, False, False, False,\n",
            "                   False, False, False, False, False, False, False, False,\n",
            "                   False, False, False, False, False, False, False, False,\n",
            "                   False, False, False, False, False],\n",
            "       fill_value='?',\n",
            "            dtype=object), 'param_n_estimators': masked_array(data=[55, 56, 57, 58, 59, 60, 61, 62, 63, 64, 65, 55, 56, 57,\n",
            "                   58, 59, 60, 61, 62, 63, 64, 65, 55, 56, 57, 58, 59, 60,\n",
            "                   61, 62, 63, 64, 65, 55, 56, 57, 58, 59, 60, 61, 62, 63,\n",
            "                   64, 65, 55, 56, 57, 58, 59, 60, 61, 62, 63, 64, 65, 55,\n",
            "                   56, 57, 58, 59, 60, 61, 62, 63, 64, 65, 55, 56, 57, 58,\n",
            "                   59, 60, 61, 62, 63, 64, 65],\n",
            "             mask=[False, False, False, False, False, False, False, False,\n",
            "                   False, False, False, False, False, False, False, False,\n",
            "                   False, False, False, False, False, False, False, False,\n",
            "                   False, False, False, False, False, False, False, False,\n",
            "                   False, False, False, False, False, False, False, False,\n",
            "                   False, False, False, False, False, False, False, False,\n",
            "                   False, False, False, False, False, False, False, False,\n",
            "                   False, False, False, False, False, False, False, False,\n",
            "                   False, False, False, False, False, False, False, False,\n",
            "                   False, False, False, False, False],\n",
            "       fill_value='?',\n",
            "            dtype=object), 'params': [{'max_depth': 15, 'n_estimators': 55}, {'max_depth': 15, 'n_estimators': 56}, {'max_depth': 15, 'n_estimators': 57}, {'max_depth': 15, 'n_estimators': 58}, {'max_depth': 15, 'n_estimators': 59}, {'max_depth': 15, 'n_estimators': 60}, {'max_depth': 15, 'n_estimators': 61}, {'max_depth': 15, 'n_estimators': 62}, {'max_depth': 15, 'n_estimators': 63}, {'max_depth': 15, 'n_estimators': 64}, {'max_depth': 15, 'n_estimators': 65}, {'max_depth': 16, 'n_estimators': 55}, {'max_depth': 16, 'n_estimators': 56}, {'max_depth': 16, 'n_estimators': 57}, {'max_depth': 16, 'n_estimators': 58}, {'max_depth': 16, 'n_estimators': 59}, {'max_depth': 16, 'n_estimators': 60}, {'max_depth': 16, 'n_estimators': 61}, {'max_depth': 16, 'n_estimators': 62}, {'max_depth': 16, 'n_estimators': 63}, {'max_depth': 16, 'n_estimators': 64}, {'max_depth': 16, 'n_estimators': 65}, {'max_depth': 17, 'n_estimators': 55}, {'max_depth': 17, 'n_estimators': 56}, {'max_depth': 17, 'n_estimators': 57}, {'max_depth': 17, 'n_estimators': 58}, {'max_depth': 17, 'n_estimators': 59}, {'max_depth': 17, 'n_estimators': 60}, {'max_depth': 17, 'n_estimators': 61}, {'max_depth': 17, 'n_estimators': 62}, {'max_depth': 17, 'n_estimators': 63}, {'max_depth': 17, 'n_estimators': 64}, {'max_depth': 17, 'n_estimators': 65}, {'max_depth': 18, 'n_estimators': 55}, {'max_depth': 18, 'n_estimators': 56}, {'max_depth': 18, 'n_estimators': 57}, {'max_depth': 18, 'n_estimators': 58}, {'max_depth': 18, 'n_estimators': 59}, {'max_depth': 18, 'n_estimators': 60}, {'max_depth': 18, 'n_estimators': 61}, {'max_depth': 18, 'n_estimators': 62}, {'max_depth': 18, 'n_estimators': 63}, {'max_depth': 18, 'n_estimators': 64}, {'max_depth': 18, 'n_estimators': 65}, {'max_depth': 19, 'n_estimators': 55}, {'max_depth': 19, 'n_estimators': 56}, {'max_depth': 19, 'n_estimators': 57}, {'max_depth': 19, 'n_estimators': 58}, {'max_depth': 19, 'n_estimators': 59}, {'max_depth': 19, 'n_estimators': 60}, {'max_depth': 19, 'n_estimators': 61}, {'max_depth': 19, 'n_estimators': 62}, {'max_depth': 19, 'n_estimators': 63}, {'max_depth': 19, 'n_estimators': 64}, {'max_depth': 19, 'n_estimators': 65}, {'max_depth': 20, 'n_estimators': 55}, {'max_depth': 20, 'n_estimators': 56}, {'max_depth': 20, 'n_estimators': 57}, {'max_depth': 20, 'n_estimators': 58}, {'max_depth': 20, 'n_estimators': 59}, {'max_depth': 20, 'n_estimators': 60}, {'max_depth': 20, 'n_estimators': 61}, {'max_depth': 20, 'n_estimators': 62}, {'max_depth': 20, 'n_estimators': 63}, {'max_depth': 20, 'n_estimators': 64}, {'max_depth': 20, 'n_estimators': 65}, {'max_depth': 21, 'n_estimators': 55}, {'max_depth': 21, 'n_estimators': 56}, {'max_depth': 21, 'n_estimators': 57}, {'max_depth': 21, 'n_estimators': 58}, {'max_depth': 21, 'n_estimators': 59}, {'max_depth': 21, 'n_estimators': 60}, {'max_depth': 21, 'n_estimators': 61}, {'max_depth': 21, 'n_estimators': 62}, {'max_depth': 21, 'n_estimators': 63}, {'max_depth': 21, 'n_estimators': 64}, {'max_depth': 21, 'n_estimators': 65}], 'split0_test_score': array([0.38603551, 0.38686771, 0.3865352 , 0.38523129, 0.38439345,\n",
            "       0.38454928, 0.38639783, 0.3851586 , 0.38585601, 0.38466918,\n",
            "       0.38255983, 0.4248057 , 0.42141191, 0.42343156, 0.42245713,\n",
            "       0.42631456, 0.42629559, 0.42564528, 0.42734908, 0.42237156,\n",
            "       0.42763721, 0.42669656, 0.37951393, 0.38296372, 0.38639826,\n",
            "       0.38634764, 0.3795929 , 0.37490227, 0.37744393, 0.37754006,\n",
            "       0.37772058, 0.38108928, 0.38158657, 0.39501558, 0.39773831,\n",
            "       0.39925332, 0.398672  , 0.39996505, 0.40375871, 0.39916584,\n",
            "       0.40260835, 0.40058591, 0.40726233, 0.40947165, 0.43649377,\n",
            "       0.43103148, 0.43370988, 0.43185711, 0.42491458, 0.42061327,\n",
            "       0.42328063, 0.42671448, 0.4289938 , 0.43316898, 0.43026418,\n",
            "       0.45699886, 0.45240741, 0.45351922, 0.44820397, 0.44749199,\n",
            "       0.44605314, 0.44818288, 0.45022642, 0.45161575, 0.45585527,\n",
            "       0.45219697, 0.44755163, 0.4469005 , 0.44804404, 0.44580387,\n",
            "       0.43868927, 0.43741886, 0.44007437, 0.43665706, 0.43430271,\n",
            "       0.43665771, 0.43271574]), 'split1_test_score': array([0.55134499, 0.549914  , 0.54245103, 0.55058286, 0.54953228,\n",
            "       0.54938704, 0.55148352, 0.55475378, 0.55665784, 0.56163086,\n",
            "       0.56360611, 0.538439  , 0.53937798, 0.53776695, 0.54864488,\n",
            "       0.54921406, 0.54868344, 0.55114163, 0.55425108, 0.55181478,\n",
            "       0.5497224 , 0.55080616, 0.54482287, 0.54269662, 0.54339096,\n",
            "       0.55365282, 0.55444052, 0.55310313, 0.55469997, 0.55854057,\n",
            "       0.5593533 , 0.55968501, 0.55835544, 0.5549545 , 0.55123366,\n",
            "       0.55279937, 0.56169852, 0.57018772, 0.56987822, 0.57189854,\n",
            "       0.57440276, 0.57766927, 0.57427264, 0.57722014, 0.56393451,\n",
            "       0.56612251, 0.56523666, 0.57376425, 0.57321397, 0.57361837,\n",
            "       0.57546086, 0.57507138, 0.57572288, 0.56878032, 0.57089849,\n",
            "       0.52274999, 0.52125788, 0.5193314 , 0.52694867, 0.52291088,\n",
            "       0.52339385, 0.52739751, 0.53095649, 0.53578834, 0.53602186,\n",
            "       0.53703467, 0.56476766, 0.56449942, 0.56391834, 0.57263436,\n",
            "       0.57216734, 0.57291417, 0.57435007, 0.57716944, 0.57773245,\n",
            "       0.58191352, 0.58458904]), 'split2_test_score': array([0.37811973, 0.37799359, 0.38269108, 0.38390383, 0.3840552 ,\n",
            "       0.38379745, 0.38086453, 0.37615182, 0.37552166, 0.37928078,\n",
            "       0.38211584, 0.3864569 , 0.38919652, 0.39215175, 0.39132171,\n",
            "       0.39180645, 0.39520743, 0.39379291, 0.39156093, 0.38971492,\n",
            "       0.38830454, 0.39100271, 0.41156992, 0.40961197, 0.41176868,\n",
            "       0.40884156, 0.4110655 , 0.40867982, 0.4079356 , 0.40552173,\n",
            "       0.40330957, 0.40289434, 0.40189547, 0.4022263 , 0.40255445,\n",
            "       0.40479287, 0.40701146, 0.40343179, 0.40294506, 0.40244545,\n",
            "       0.39970034, 0.4011217 , 0.40939548, 0.40894877, 0.41191531,\n",
            "       0.40973044, 0.4120467 , 0.41198358, 0.41350386, 0.41020923,\n",
            "       0.40767256, 0.40414377, 0.40089132, 0.40184477, 0.40605608,\n",
            "       0.3870728 , 0.38526727, 0.38780279, 0.38702892, 0.38593579,\n",
            "       0.38321642, 0.38159596, 0.37924197, 0.37737827, 0.37776331,\n",
            "       0.37765953, 0.41013787, 0.40903059, 0.41159607, 0.4075245 ,\n",
            "       0.40765215, 0.40428338, 0.40354992, 0.40065284, 0.39560326,\n",
            "       0.3941889 , 0.39379994]), 'split3_test_score': array([0.61793144, 0.61901674, 0.6220966 , 0.62164288, 0.61907615,\n",
            "       0.6173648 , 0.61693727, 0.61842737, 0.61768852, 0.618018  ,\n",
            "       0.62101193, 0.61541345, 0.61923674, 0.61929056, 0.62087578,\n",
            "       0.62338625, 0.62430385, 0.62412934, 0.62499678, 0.61945769,\n",
            "       0.61959322, 0.62121814, 0.65149964, 0.65268154, 0.65192651,\n",
            "       0.65176804, 0.6542309 , 0.6491835 , 0.64567702, 0.64687631,\n",
            "       0.64461213, 0.64691264, 0.64345876, 0.62133421, 0.62134689,\n",
            "       0.62519738, 0.62742   , 0.62649292, 0.62606338, 0.62440918,\n",
            "       0.62453897, 0.62188922, 0.62427196, 0.62674986, 0.62431284,\n",
            "       0.62840524, 0.6328694 , 0.63308947, 0.63531552, 0.63773016,\n",
            "       0.63410602, 0.63415655, 0.63244987, 0.63253957, 0.63046493,\n",
            "       0.62884546, 0.62749897, 0.62875412, 0.63079797, 0.63561368,\n",
            "       0.63707024, 0.63517241, 0.640101  , 0.63985515, 0.64159739,\n",
            "       0.64080885, 0.63000216, 0.62825994, 0.63307741, 0.63301443,\n",
            "       0.63507342, 0.63602811, 0.63421124, 0.63687095, 0.63311496,\n",
            "       0.63958588, 0.63787437]), 'split4_test_score': array([0.25951172, 0.25209597, 0.24814691, 0.23969203, 0.23767532,\n",
            "       0.23825758, 0.24251123, 0.23168885, 0.23377863, 0.23914297,\n",
            "       0.23768303, 0.26018077, 0.26782496, 0.26467395, 0.26250411,\n",
            "       0.26255011, 0.2624527 , 0.26546794, 0.25615551, 0.25983414,\n",
            "       0.26668315, 0.26409533, 0.25654188, 0.25294703, 0.24834368,\n",
            "       0.24471942, 0.24687046, 0.24965894, 0.25344081, 0.24526363,\n",
            "       0.23890052, 0.24020326, 0.24358264, 0.25151181, 0.24997285,\n",
            "       0.24786252, 0.23903766, 0.24669694, 0.25015148, 0.25319596,\n",
            "       0.24213771, 0.24293342, 0.25220813, 0.25345336, 0.30761232,\n",
            "       0.30830419, 0.30128004, 0.29893135, 0.29779535, 0.29142724,\n",
            "       0.29636255, 0.28544717, 0.28683374, 0.28816085, 0.28825917,\n",
            "       0.27974598, 0.28335797, 0.27975373, 0.27770582, 0.27287116,\n",
            "       0.27492382, 0.27729888, 0.26937605, 0.27237265, 0.27870047,\n",
            "       0.27876634, 0.26799461, 0.26734686, 0.26271838, 0.26203761,\n",
            "       0.26023202, 0.25891365, 0.26146724, 0.2553562 , 0.24805335,\n",
            "       0.25578934, 0.25918558]), 'mean_test_score': array([0.43858868, 0.4371776 , 0.43638417, 0.43621058, 0.43494648,\n",
            "       0.43467123, 0.43563888, 0.43323609, 0.43390053, 0.43654836,\n",
            "       0.43739535, 0.44505917, 0.44740962, 0.44746295, 0.44916072,\n",
            "       0.45065429, 0.4513886 , 0.45203542, 0.45086267, 0.44863862,\n",
            "       0.4503881 , 0.45076378, 0.44878965, 0.44818018, 0.44836562,\n",
            "       0.4490659 , 0.44924006, 0.44710553, 0.44783947, 0.44674846,\n",
            "       0.44477922, 0.44615691, 0.44577578, 0.44500848, 0.44456923,\n",
            "       0.44598109, 0.44676793, 0.44935488, 0.45055937, 0.45022299,\n",
            "       0.44867762, 0.4488399 , 0.45348211, 0.45516876, 0.46885375,\n",
            "       0.46871877, 0.46902853, 0.46992515, 0.46894865, 0.46671965,\n",
            "       0.46737652, 0.46510667, 0.46497832, 0.4648989 , 0.46518857,\n",
            "       0.45508262, 0.4539579 , 0.45383225, 0.45413707, 0.4529647 ,\n",
            "       0.45293149, 0.45392953, 0.45398038, 0.45540203, 0.45798766,\n",
            "       0.45729327, 0.46409078, 0.46320746, 0.46387085, 0.46420295,\n",
            "       0.46276284, 0.46191163, 0.46273057, 0.4613413 , 0.45776135,\n",
            "       0.46162707, 0.46163294]), 'std_test_score': array([0.12912374, 0.13119757, 0.13156019, 0.13521877, 0.13497784,\n",
            "       0.13432448, 0.13342585, 0.13802442, 0.1375591 , 0.13676021,\n",
            "       0.13826928, 0.12309738, 0.12189999, 0.12225236, 0.12512576,\n",
            "       0.12568933, 0.12557765, 0.12516742, 0.12883502, 0.12620108,\n",
            "       0.12378785, 0.1249471 , 0.13671676, 0.13755787, 0.1383148 ,\n",
            "       0.1409508 , 0.14166853, 0.13981845, 0.13776615, 0.14116247,\n",
            "       0.14259246, 0.14262808, 0.14048526, 0.13034528, 0.12996444,\n",
            "       0.13165071, 0.13630104, 0.13534917, 0.13390996, 0.13330787,\n",
            "       0.13705029, 0.13678159, 0.13292903, 0.13360406, 0.11269058,\n",
            "       0.11456007, 0.11724652, 0.11954115, 0.12071103, 0.12386976,\n",
            "       0.12184887, 0.12501046, 0.1244577 , 0.12256728, 0.12207476,\n",
            "       0.11844352, 0.11702216, 0.11794161, 0.12014765, 0.12264553,\n",
            "       0.12285459, 0.12223754, 0.12668456, 0.12655964, 0.12520883,\n",
            "       0.12512077, 0.12593696, 0.1257496 , 0.12812948, 0.13013569,\n",
            "       0.13137407, 0.1324894 , 0.13144361, 0.13486963, 0.13677232,\n",
            "       0.13687857, 0.13608946]), 'rank_test_score': array([67, 69, 71, 72, 74, 75, 73, 77, 76, 70, 68, 63, 56, 55, 46, 40, 37,\n",
            "       36, 38, 51, 42, 39, 49, 53, 52, 47, 45, 57, 54, 59, 65, 60, 62, 64,\n",
            "       66, 61, 58, 44, 41, 43, 50, 48, 33, 26,  4,  5,  2,  1,  3,  7,  6,\n",
            "        9, 10, 11,  8, 27, 30, 32, 28, 34, 35, 31, 29, 25, 22, 24, 13, 15,\n",
            "       14, 12, 16, 18, 17, 21, 23, 20, 19], dtype=int32)}\n"
          ],
          "name": "stdout"
        },
        {
          "output_type": "display_data",
          "data": {
            "image/png": "[encoded data removed]",
            "text/plain": [
              "<Figure size 432x288 with 1 Axes>"
            ]
          },
          "metadata": {
            "tags": [],
            "needs_background": "light"
          }
        },
        {
          "output_type": "stream",
          "text": [
            "the best parameter for max_depth is: 19\n",
            "the best parameter for n_estimators is: 58\n"
          ],
          "name": "stdout"
        }
      ]
    },
    {
      "cell_type": "markdown",
      "metadata": {
        "id": "4hOWiqrAGBT3",
        "colab_type": "text"
      },
      "source": [
        "# Part 4: Model Evaluation"
      ]
    },
    {
      "cell_type": "markdown",
      "metadata": {
        "id": "OTvNuvgHgopJ",
        "colab_type": "text"
      },
      "source": [
        "## 4.1: Evaluate all models"
      ]
    },
    {
      "cell_type": "code",
      "metadata": {
        "id": "hqKQ3G8r2Y7m",
        "colab_type": "code",
        "colab": {}
      },
      "source": [
        "train_x = model_train_x\n",
        "train_y = model_train_y\n",
        "test_x = model_test_x\n",
        "test_y = model_test_y"
      ],
      "execution_count": null,
      "outputs": []
    },
    {
      "cell_type": "code",
      "metadata": {
        "id": "K3ln6hSBwwqg",
        "colab_type": "code",
        "colab": {
          "base_uri": "https://localhost:8080/",
          "height": 68
        },
        "outputId": "b9be0cb4-d52c-458f-e281-39043d5cdaca"
      },
      "source": [
        "#For lasso\n",
        "from sklearn.linear_model import Lasso\n",
        "from sklearn.metrics import  mean_squared_error\n",
        "lasso=Lasso(alpha=model1_para)\n",
        "lasso.fit(train_x,train_y)\n",
        "pred_y=lasso.predict(test_x)\n",
        "lasso_score=lasso.score(test_x,test_y)\n",
        "MSE_lasso=mean_squared_error(test_y,pred_y)\n",
        "RMSE_lasso=np.sqrt(MSE_lasso)\n",
        "print ('lasso score: ', lasso_score)\n",
        "print ('Mean square error of lasso: ', MSE_lasso)\n",
        "print ('Root mean squared error of lasso:', RMSE_lasso)"
      ],
      "execution_count": null,
      "outputs": [
        {
          "output_type": "stream",
          "text": [
            "lasso score:  0.09954927178753703\n",
            "Mean square error of lasso:  238953191.99910036\n",
            "Root mean squared error of lasso: 15458.110880670392\n"
          ],
          "name": "stdout"
        }
      ]
    },
    {
      "cell_type": "code",
      "metadata": {
        "id": "kGt2OK7dPo6V",
        "colab_type": "code",
        "colab": {
          "base_uri": "https://localhost:8080/",
          "height": 68
        },
        "outputId": "0248809a-4b7c-42dd-c031-23dc714746f5"
      },
      "source": [
        "#for ridge\n",
        "from sklearn.metrics import  mean_squared_error\n",
        "ridge=Ridge(alpha=model3_para)\n",
        "ridge.fit(train_x,train_y)\n",
        "pred_y=ridge.predict(test_x)\n",
        "ridge_score=ridge.score(test_x,test_y)\n",
        "MSE_ridge=mean_squared_error(test_y,pred_y)\n",
        "RMSE_ridge=np.sqrt(MSE_ridge)\n",
        "print ('ridge score: ', ridge_score)\n",
        "print ('Mean square error of ridge: ', MSE_ridge)\n",
        "print ('Root mean squared error of ridge:', RMSE_ridge)"
      ],
      "execution_count": null,
      "outputs": [
        {
          "output_type": "stream",
          "text": [
            "ridge score:  0.11371374943726809\n",
            "Mean square error of ridge:  235194355.4060952\n",
            "Root mean squared error of ridge: 15336.047580980414\n"
          ],
          "name": "stdout"
        }
      ]
    },
    {
      "cell_type": "code",
      "metadata": {
        "id": "uhuoqrdCRcDK",
        "colab_type": "code",
        "colab": {
          "base_uri": "https://localhost:8080/",
          "height": 68
        },
        "outputId": "664ea46f-0f47-4f0f-f673-b29a919c4ae0"
      },
      "source": [
        "#For randomforest regression\n",
        "from sklearn.ensemble import RandomForestRegressor\n",
        "rf=RandomForestRegressor(n_estimators=clf.best_params_['n_estimators'],max_depth=clf.best_params_['max_depth'],max_features='sqrt',random_state=2,n_jobs=-1)\n",
        "rf.fit(train_x,train_y)\n",
        "pred_y=rf.predict(test_x)\n",
        "rf_score=rf.score(test_x,test_y)\n",
        "MSE_rf=mean_squared_error(test_y,pred_y)\n",
        "RMSE_rf=np.sqrt(MSE_rf)\n",
        "print ('rf score: ', rf_score)\n",
        "print ('Mean square error of rf: ', MSE_rf)\n",
        "print ('Root mean squared error of rf:', RMSE_rf)\n"
      ],
      "execution_count": null,
      "outputs": [
        {
          "output_type": "stream",
          "text": [
            "rf score:  0.5139461304918905\n",
            "Mean square error of rf:  128984429.64563024\n",
            "Root mean squared error of rf: 11357.131224285042\n"
          ],
          "name": "stdout"
        }
      ]
    },
    {
      "cell_type": "markdown",
      "metadata": {
        "id": "KOaL7VjchKND",
        "colab_type": "text"
      },
      "source": [
        "## 4.2 Model comparison "
      ]
    },
    {
      "cell_type": "code",
      "metadata": {
        "id": "4GS6BG2PS2oE",
        "colab_type": "code",
        "colab": {
          "base_uri": "https://localhost:8080/",
          "height": 832
        },
        "outputId": "e4d0dda6-966b-4057-e321-34673baf6361"
      },
      "source": [
        "lst_score = [lasso_score, ridge_score, rf_score]\n",
        "MSE_lst =  [MSE_lasso, MSE_ridge, MSE_rf]\n",
        "RMSE_lst =  [RMSE_lasso, RMSE_ridge, RMSE_rf]\n",
        "model_lst = ['Lasso_linear', 'Ridge linear', 'Random forest']\n",
        "\n",
        "plt.figure(1)\n",
        "plt.plot(model_lst, lst_score, 'ro')\n",
        "plt.legend(['r-squre / score'])\n",
        "plt.xlabel('model names',fontsize =16)\n",
        "plt.ylabel('score / r square', fontsize =16)\n",
        "plt.grid(True)\n",
        "plt.show()\n",
        "\n",
        "plt.figure(2)\n",
        "plt.plot(model_lst, MSE_lst, 'g^')\n",
        "plt.legend(['mean square error (MSE)'])\n",
        "plt.xlabel('model names', fontsize =16)\n",
        "plt.ylabel('mean square error', fontsize =16)\n",
        "plt.grid(True)\n",
        "plt.show()\n",
        "\n",
        "plt.figure(3)\n",
        "plt.plot(model_lst, RMSE_lst, 'bs')\n",
        "plt.legend(['root mean square error (RMSE)'])\n",
        "plt.xlabel('model names', fontsize =16)\n",
        "plt.ylabel('root mean square error', fontsize =16)\n",
        "plt.grid(True)\n",
        "plt.show()"
      ],
      "execution_count": null,
      "outputs": [
        {
          "output_type": "display_data",
          "data": {
            "image/png": "[encoded data removed]",
            "text/plain": [
              "<Figure size 432x288 with 1 Axes>"
            ]
          },
          "metadata": {
            "tags": [],
            "needs_background": "light"
          }
        },
        {
          "output_type": "display_data",
          "data": {
            "image/png": "[encoded data removed]",
            "text/plain": [
              "<Figure size 432x288 with 1 Axes>"
            ]
          },
          "metadata": {
            "tags": [],
            "needs_background": "light"
          }
        },
        {
          "output_type": "display_data",
          "data": {
            "image/png": "[encoded data removed]",
            "text/plain": [
              "<Figure size 432x288 with 1 Axes>"
            ]
          },
          "metadata": {
            "tags": [],
            "needs_background": "light"
          }
        }
      ]
    },
    {
      "cell_type": "markdown",
      "metadata": {
        "id": "ndOUSyTvhb7k",
        "colab_type": "text"
      },
      "source": [
        "## 4.3 Feature importance"
      ]
    },
    {
      "cell_type": "markdown",
      "metadata": {
        "id": "be1mLaDvUOgD",
        "colab_type": "text"
      },
      "source": [
        "According to MSE,RMSE and R square, the Random Forest Regression has the best performance"
      ]
    },
    {
      "cell_type": "code",
      "metadata": {
        "id": "o2AyiWRnVVJj",
        "colab_type": "code",
        "cellView": "code",
        "colab": {
          "base_uri": "https://localhost:8080/",
          "height": 407
        },
        "outputId": "02025cde-515d-4b4e-96a0-3aaa215fcc8a"
      },
      "source": [
        "importances = rf.feature_importances_\n",
        "feature_name = train_x.columns.values\n",
        "indices = np.argsort(importances)[::-1]\n",
        "plt.figure(1)\n",
        "plt.bar(feature_name[indices[:20]], importances[indices[:20]])\n",
        "plt.xticks(rotation=90)\n",
        "plt.show()"
      ],
      "execution_count": null,
      "outputs": [
        {
          "output_type": "display_data",
          "data": {
            "image/png": "[encoded data removed]",
            "text/plain": [
              "<Figure size 432x288 with 1 Axes>"
            ]
          },
          "metadata": {
            "tags": [],
            "needs_background": "light"
          }
        }
      ]
    },
    {
      "cell_type": "code",
      "metadata": {
        "id": "3zxQ9pe7SFQY",
        "colab_type": "code",
        "colab": {}
      },
      "source": [
        "# This is the end of this part of the project."
      ],
      "execution_count": 1,
      "outputs": []
    }
  ]
}